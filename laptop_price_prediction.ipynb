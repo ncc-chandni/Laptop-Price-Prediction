{
  "cells": [
    {
      "cell_type": "markdown",
      "metadata": {
        "id": "emdhgfUMPiSt"
      },
      "source": [
        "# Business Problem"
      ]
    },
    {
      "cell_type": "markdown",
      "metadata": {
        "id": "VEGyI4nMPpZe"
      },
      "source": [
        "Predict the price of Laptops based on various features."
      ]
    },
    {
      "cell_type": "markdown",
      "metadata": {
        "id": "RwSf0MBVQYVg"
      },
      "source": [
        "# Data Exploration and Data Understanding"
      ]
    },
    {
      "cell_type": "markdown",
      "metadata": {
        "id": "nTKFAhtTi__-"
      },
      "source": [
        "### Importing Libraries"
      ]
    },
    {
      "cell_type": "code",
      "execution_count": 129,
      "metadata": {
        "id": "eXJIuf68XuSz"
      },
      "outputs": [],
      "source": [
        "import numpy as np\n",
        "import pandas as pd\n",
        "import matplotlib.pyplot as plt\n",
        "import seaborn as sns\n",
        "import warnings\n",
        "warnings.filterwarnings('ignore')"
      ]
    },
    {
      "cell_type": "markdown",
      "metadata": {
        "id": "Hu06DpZkjETJ"
      },
      "source": [
        "### Data Preprocessing"
      ]
    },
    {
      "cell_type": "code",
      "execution_count": 130,
      "metadata": {
        "id": "IBjn7qyyZEGg"
      },
      "outputs": [],
      "source": [
        "df = pd.read_csv(\"/Users/umakantmanore/Desktop/amu/Dev_Enviroment2023/test_env/ML-Capstone/laptop.csv\")"
      ]
    },
    {
      "cell_type": "code",
      "execution_count": 131,
      "metadata": {
        "colab": {
          "base_uri": "https://localhost:8080/",
          "height": 0
        },
        "id": "6vG2AiLpZNV2",
        "outputId": "e6f3fc6b-74d3-4087-c674-13cf47911818"
      },
      "outputs": [
        {
          "data": {
            "text/html": [
              "<div>\n",
              "<style scoped>\n",
              "    .dataframe tbody tr th:only-of-type {\n",
              "        vertical-align: middle;\n",
              "    }\n",
              "\n",
              "    .dataframe tbody tr th {\n",
              "        vertical-align: top;\n",
              "    }\n",
              "\n",
              "    .dataframe thead th {\n",
              "        text-align: right;\n",
              "    }\n",
              "</style>\n",
              "<table border=\"1\" class=\"dataframe\">\n",
              "  <thead>\n",
              "    <tr style=\"text-align: right;\">\n",
              "      <th></th>\n",
              "      <th>Unnamed: 0.1</th>\n",
              "      <th>Unnamed: 0</th>\n",
              "      <th>Company</th>\n",
              "      <th>TypeName</th>\n",
              "      <th>Inches</th>\n",
              "      <th>ScreenResolution</th>\n",
              "      <th>Cpu</th>\n",
              "      <th>Ram</th>\n",
              "      <th>Memory</th>\n",
              "      <th>Gpu</th>\n",
              "      <th>OpSys</th>\n",
              "      <th>Weight</th>\n",
              "      <th>Price</th>\n",
              "    </tr>\n",
              "  </thead>\n",
              "  <tbody>\n",
              "    <tr>\n",
              "      <th>0</th>\n",
              "      <td>0</td>\n",
              "      <td>0.0</td>\n",
              "      <td>Apple</td>\n",
              "      <td>Ultrabook</td>\n",
              "      <td>13.3</td>\n",
              "      <td>IPS Panel Retina Display 2560x1600</td>\n",
              "      <td>Intel Core i5 2.3GHz</td>\n",
              "      <td>8GB</td>\n",
              "      <td>128GB SSD</td>\n",
              "      <td>Intel Iris Plus Graphics 640</td>\n",
              "      <td>macOS</td>\n",
              "      <td>1.37kg</td>\n",
              "      <td>71378.6832</td>\n",
              "    </tr>\n",
              "    <tr>\n",
              "      <th>1</th>\n",
              "      <td>1</td>\n",
              "      <td>1.0</td>\n",
              "      <td>Apple</td>\n",
              "      <td>Ultrabook</td>\n",
              "      <td>13.3</td>\n",
              "      <td>1440x900</td>\n",
              "      <td>Intel Core i5 1.8GHz</td>\n",
              "      <td>8GB</td>\n",
              "      <td>128GB Flash Storage</td>\n",
              "      <td>Intel HD Graphics 6000</td>\n",
              "      <td>macOS</td>\n",
              "      <td>1.34kg</td>\n",
              "      <td>47895.5232</td>\n",
              "    </tr>\n",
              "  </tbody>\n",
              "</table>\n",
              "</div>"
            ],
            "text/plain": [
              "   Unnamed: 0.1  Unnamed: 0 Company   TypeName Inches  \\\n",
              "0             0         0.0   Apple  Ultrabook   13.3   \n",
              "1             1         1.0   Apple  Ultrabook   13.3   \n",
              "\n",
              "                     ScreenResolution                   Cpu  Ram  \\\n",
              "0  IPS Panel Retina Display 2560x1600  Intel Core i5 2.3GHz  8GB   \n",
              "1                            1440x900  Intel Core i5 1.8GHz  8GB   \n",
              "\n",
              "                Memory                           Gpu  OpSys  Weight  \\\n",
              "0            128GB SSD  Intel Iris Plus Graphics 640  macOS  1.37kg   \n",
              "1  128GB Flash Storage        Intel HD Graphics 6000  macOS  1.34kg   \n",
              "\n",
              "        Price  \n",
              "0  71378.6832  \n",
              "1  47895.5232  "
            ]
          },
          "execution_count": 131,
          "metadata": {},
          "output_type": "execute_result"
        }
      ],
      "source": [
        "df.head(2)"
      ]
    },
    {
      "cell_type": "code",
      "execution_count": 132,
      "metadata": {
        "colab": {
          "base_uri": "https://localhost:8080/"
        },
        "id": "nTN8C3jyZOQ_",
        "outputId": "c90b07fa-b59f-43c3-ec28-31e82d2b18cf"
      },
      "outputs": [
        {
          "data": {
            "text/plain": [
              "Index(['Unnamed: 0.1', 'Unnamed: 0', 'Company', 'TypeName', 'Inches',\n",
              "       'ScreenResolution', 'Cpu', 'Ram', 'Memory', 'Gpu', 'OpSys', 'Weight',\n",
              "       'Price'],\n",
              "      dtype='object')"
            ]
          },
          "execution_count": 132,
          "metadata": {},
          "output_type": "execute_result"
        }
      ],
      "source": [
        "df.columns"
      ]
    },
    {
      "cell_type": "markdown",
      "metadata": {
        "id": "DbWy-TDajKgE"
      },
      "source": [
        "### Data Cleaning"
      ]
    },
    {
      "cell_type": "code",
      "execution_count": 133,
      "metadata": {
        "colab": {
          "base_uri": "https://localhost:8080/",
          "height": 0
        },
        "id": "FHC39xE0ZTY3",
        "outputId": "7af2b244-be09-40e1-e479-082d37163264"
      },
      "outputs": [
        {
          "data": {
            "text/html": [
              "<div>\n",
              "<style scoped>\n",
              "    .dataframe tbody tr th:only-of-type {\n",
              "        vertical-align: middle;\n",
              "    }\n",
              "\n",
              "    .dataframe tbody tr th {\n",
              "        vertical-align: top;\n",
              "    }\n",
              "\n",
              "    .dataframe thead th {\n",
              "        text-align: right;\n",
              "    }\n",
              "</style>\n",
              "<table border=\"1\" class=\"dataframe\">\n",
              "  <thead>\n",
              "    <tr style=\"text-align: right;\">\n",
              "      <th></th>\n",
              "      <th>Company</th>\n",
              "      <th>TypeName</th>\n",
              "      <th>Inches</th>\n",
              "      <th>ScreenResolution</th>\n",
              "      <th>Cpu</th>\n",
              "      <th>Ram</th>\n",
              "      <th>Memory</th>\n",
              "      <th>Gpu</th>\n",
              "      <th>OpSys</th>\n",
              "      <th>Weight</th>\n",
              "      <th>Price</th>\n",
              "    </tr>\n",
              "  </thead>\n",
              "  <tbody>\n",
              "    <tr>\n",
              "      <th>0</th>\n",
              "      <td>Apple</td>\n",
              "      <td>Ultrabook</td>\n",
              "      <td>13.3</td>\n",
              "      <td>IPS Panel Retina Display 2560x1600</td>\n",
              "      <td>Intel Core i5 2.3GHz</td>\n",
              "      <td>8GB</td>\n",
              "      <td>128GB SSD</td>\n",
              "      <td>Intel Iris Plus Graphics 640</td>\n",
              "      <td>macOS</td>\n",
              "      <td>1.37kg</td>\n",
              "      <td>71378.6832</td>\n",
              "    </tr>\n",
              "    <tr>\n",
              "      <th>1</th>\n",
              "      <td>Apple</td>\n",
              "      <td>Ultrabook</td>\n",
              "      <td>13.3</td>\n",
              "      <td>1440x900</td>\n",
              "      <td>Intel Core i5 1.8GHz</td>\n",
              "      <td>8GB</td>\n",
              "      <td>128GB Flash Storage</td>\n",
              "      <td>Intel HD Graphics 6000</td>\n",
              "      <td>macOS</td>\n",
              "      <td>1.34kg</td>\n",
              "      <td>47895.5232</td>\n",
              "    </tr>\n",
              "  </tbody>\n",
              "</table>\n",
              "</div>"
            ],
            "text/plain": [
              "  Company   TypeName Inches                    ScreenResolution  \\\n",
              "0   Apple  Ultrabook   13.3  IPS Panel Retina Display 2560x1600   \n",
              "1   Apple  Ultrabook   13.3                            1440x900   \n",
              "\n",
              "                    Cpu  Ram               Memory  \\\n",
              "0  Intel Core i5 2.3GHz  8GB            128GB SSD   \n",
              "1  Intel Core i5 1.8GHz  8GB  128GB Flash Storage   \n",
              "\n",
              "                            Gpu  OpSys  Weight       Price  \n",
              "0  Intel Iris Plus Graphics 640  macOS  1.37kg  71378.6832  \n",
              "1        Intel HD Graphics 6000  macOS  1.34kg  47895.5232  "
            ]
          },
          "execution_count": 133,
          "metadata": {},
          "output_type": "execute_result"
        }
      ],
      "source": [
        "df.drop(['Unnamed: 0.1', 'Unnamed: 0'], axis = 1, inplace = True)\n",
        "df.head(2)"
      ]
    },
    {
      "cell_type": "code",
      "execution_count": 134,
      "metadata": {
        "colab": {
          "base_uri": "https://localhost:8080/"
        },
        "id": "ClruvjZIZmCi",
        "outputId": "bce713b1-b1fd-4294-d926-58d6f273f4b5"
      },
      "outputs": [
        {
          "data": {
            "text/plain": [
              "(1303, 11)"
            ]
          },
          "execution_count": 134,
          "metadata": {},
          "output_type": "execute_result"
        }
      ],
      "source": [
        "df.shape"
      ]
    },
    {
      "cell_type": "code",
      "execution_count": 135,
      "metadata": {
        "colab": {
          "base_uri": "https://localhost:8080/"
        },
        "id": "-gRDDu5kZc2X",
        "outputId": "15490717-0c37-4afc-b332-b6e0ca5ab534"
      },
      "outputs": [
        {
          "data": {
            "text/plain": [
              "Company             30\n",
              "TypeName            30\n",
              "Inches              30\n",
              "ScreenResolution    30\n",
              "Cpu                 30\n",
              "Ram                 30\n",
              "Memory              30\n",
              "Gpu                 30\n",
              "OpSys               30\n",
              "Weight              30\n",
              "Price               30\n",
              "dtype: int64"
            ]
          },
          "execution_count": 135,
          "metadata": {},
          "output_type": "execute_result"
        }
      ],
      "source": [
        "df.isnull().sum()"
      ]
    },
    {
      "cell_type": "code",
      "execution_count": 136,
      "metadata": {
        "id": "eJlUwFD9Zf8c"
      },
      "outputs": [],
      "source": [
        "df.dropna(axis=0, how='all',inplace=True)"
      ]
    },
    {
      "cell_type": "code",
      "execution_count": 137,
      "metadata": {
        "colab": {
          "base_uri": "https://localhost:8080/"
        },
        "id": "cSiyvTY6akR8",
        "outputId": "9c72bf2a-24d0-4300-8fa5-6ab37af93d62"
      },
      "outputs": [
        {
          "name": "stdout",
          "output_type": "stream",
          "text": [
            "<class 'pandas.core.frame.DataFrame'>\n",
            "Index: 1273 entries, 0 to 1302\n",
            "Data columns (total 11 columns):\n",
            " #   Column            Non-Null Count  Dtype  \n",
            "---  ------            --------------  -----  \n",
            " 0   Company           1273 non-null   object \n",
            " 1   TypeName          1273 non-null   object \n",
            " 2   Inches            1273 non-null   object \n",
            " 3   ScreenResolution  1273 non-null   object \n",
            " 4   Cpu               1273 non-null   object \n",
            " 5   Ram               1273 non-null   object \n",
            " 6   Memory            1273 non-null   object \n",
            " 7   Gpu               1273 non-null   object \n",
            " 8   OpSys             1273 non-null   object \n",
            " 9   Weight            1273 non-null   object \n",
            " 10  Price             1273 non-null   float64\n",
            "dtypes: float64(1), object(10)\n",
            "memory usage: 119.3+ KB\n"
          ]
        }
      ],
      "source": [
        "df.info()"
      ]
    },
    {
      "cell_type": "markdown",
      "metadata": {
        "id": "bJng-TtCQ6Ui"
      },
      "source": [
        " OBSERVATION:\n",
        "\n",
        "1303 rows with 11 features.\n",
        "\n",
        "There are 30 missing values. Hence, dropped the null values. Only 1273 rows left now\n",
        "\n",
        "All the features except 'Price' is of 'object' datatype."
      ]
    },
    {
      "cell_type": "code",
      "execution_count": 138,
      "metadata": {
        "colab": {
          "base_uri": "https://localhost:8080/"
        },
        "id": "bkv0BC6LanQZ",
        "outputId": "e0271146-6f39-4b33-834b-61c9f7799995"
      },
      "outputs": [
        {
          "data": {
            "text/plain": [
              "Company              19\n",
              "TypeName              6\n",
              "Inches               25\n",
              "ScreenResolution     40\n",
              "Cpu                 118\n",
              "Ram                  10\n",
              "Memory               40\n",
              "Gpu                 110\n",
              "OpSys                 9\n",
              "Weight              189\n",
              "Price               777\n",
              "dtype: int64"
            ]
          },
          "execution_count": 138,
          "metadata": {},
          "output_type": "execute_result"
        }
      ],
      "source": [
        "df[['Company', 'TypeName', 'Inches',\n",
        "       'ScreenResolution', 'Cpu', 'Ram', 'Memory', 'Gpu', 'OpSys', 'Weight',\n",
        "       'Price']].nunique()"
      ]
    },
    {
      "cell_type": "code",
      "execution_count": 139,
      "metadata": {
        "colab": {
          "base_uri": "https://localhost:8080/"
        },
        "id": "vKGD6wiTass8",
        "outputId": "0670431b-1b78-43e5-87ba-c47d57f824b5"
      },
      "outputs": [
        {
          "name": "stdout",
          "output_type": "stream",
          "text": [
            "Unique values of Company : \n",
            " ['Apple' 'HP' 'Acer' 'Asus' 'Dell' 'Lenovo' 'Chuwi' 'MSI' 'Microsoft'\n",
            " 'Toshiba' 'Huawei' 'Xiaomi' 'Vero' 'Razer' 'Mediacom' 'Samsung' 'Google'\n",
            " 'Fujitsu' 'LG']\n",
            "\n",
            "\n",
            "Unique values of TypeName : \n",
            " ['Ultrabook' 'Notebook' 'Gaming' '2 in 1 Convertible' 'Workstation'\n",
            " 'Netbook']\n",
            "\n",
            "\n",
            "Unique values of Inches : \n",
            " ['13.3' '15.6' '15.4' '14' '12' '17.3' '13.5' '12.5' '13' '18.4' '13.9'\n",
            " '11.6' '25.6' '35.6' '12.3' '27.3' '24' '33.5' '?' '31.6' '17' '15'\n",
            " '14.1' '11.3' '10.1']\n",
            "\n",
            "\n",
            "Unique values of ScreenResolution : \n",
            " ['IPS Panel Retina Display 2560x1600' '1440x900' 'Full HD 1920x1080'\n",
            " 'IPS Panel Retina Display 2880x1800' '1366x768'\n",
            " 'IPS Panel Full HD 1920x1080' 'IPS Panel Retina Display 2304x1440'\n",
            " 'IPS Panel Full HD / Touchscreen 1920x1080'\n",
            " 'Full HD / Touchscreen 1920x1080' 'Touchscreen / Quad HD+ 3200x1800'\n",
            " 'Touchscreen 2256x1504' 'Quad HD+ / Touchscreen 3200x1800'\n",
            " 'IPS Panel 1366x768' 'IPS Panel 4K Ultra HD / Touchscreen 3840x2160'\n",
            " 'IPS Panel Full HD 2160x1440' '4K Ultra HD / Touchscreen 3840x2160'\n",
            " '1600x900' 'IPS Panel 4K Ultra HD 3840x2160' '4K Ultra HD 3840x2160'\n",
            " 'Touchscreen 1366x768' 'Touchscreen 2560x1440'\n",
            " 'IPS Panel Full HD 1366x768' 'IPS Panel 2560x1440'\n",
            " 'IPS Panel Full HD 2560x1440' 'IPS Panel Retina Display 2736x1824'\n",
            " 'Touchscreen 2400x1600' '2560x1440' 'IPS Panel Quad HD+ 2560x1440'\n",
            " 'IPS Panel Quad HD+ 3200x1800'\n",
            " 'IPS Panel Quad HD+ / Touchscreen 3200x1800'\n",
            " 'IPS Panel Touchscreen 1366x768' '1920x1080'\n",
            " 'IPS Panel Full HD 1920x1200'\n",
            " 'IPS Panel Touchscreen / 4K Ultra HD 3840x2160'\n",
            " 'IPS Panel Touchscreen 2560x1440' 'Touchscreen / Full HD 1920x1080'\n",
            " 'Quad HD+ 3200x1800' 'IPS Panel Touchscreen 1920x1200'\n",
            " 'Touchscreen / 4K Ultra HD 3840x2160' 'IPS Panel Touchscreen 2400x1600']\n",
            "\n",
            "\n",
            "Unique values of Cpu : \n",
            " ['Intel Core i5 2.3GHz' 'Intel Core i5 1.8GHz'\n",
            " 'Intel Core i5 7200U 2.5GHz' 'Intel Core i7 2.7GHz'\n",
            " 'Intel Core i5 3.1GHz' 'AMD A9-Series 9420 3GHz' 'Intel Core i7 2.2GHz'\n",
            " 'Intel Core i7 8550U 1.8GHz' 'Intel Core i5 8250U 1.6GHz'\n",
            " 'Intel Core i3 6006U 2GHz' 'Intel Core i7 2.8GHz'\n",
            " 'Intel Core M m3 1.2GHz' 'Intel Core i7 7500U 2.7GHz'\n",
            " 'Intel Core i7 2.9GHz' 'Intel Core i3 7100U 2.4GHz'\n",
            " 'Intel Core i5 7300HQ 2.5GHz' 'AMD E-Series E2-9000e 1.5GHz'\n",
            " 'Intel Core i5 1.6GHz' 'Intel Core i7 8650U 1.9GHz'\n",
            " 'Intel Atom x5-Z8300 1.44GHz' 'AMD E-Series E2-6110 1.5GHz'\n",
            " 'AMD A6-Series 9220 2.5GHz' 'Intel Celeron Dual Core N3350 1.1GHz'\n",
            " 'Intel Core i3 7130U 2.7GHz' 'Intel Core i7 7700HQ 2.8GHz'\n",
            " 'Intel Core i5 2.0GHz' 'AMD Ryzen 1700 3GHz'\n",
            " 'Intel Pentium Quad Core N4200 1.1GHz'\n",
            " 'Intel Celeron Dual Core N3060 1.6GHz' 'Intel Core i5 1.3GHz'\n",
            " 'AMD FX 9830P 3GHz' 'Intel Core i7 7560U 2.4GHz'\n",
            " 'AMD E-Series 6110 1.5GHz' 'Intel Core i5 6200U 2.3GHz'\n",
            " 'Intel Core M 6Y75 1.2GHz' 'Intel Core i5 7500U 2.7GHz'\n",
            " 'Intel Core i3 6006U 2.2GHz' 'AMD A6-Series 9220 2.9GHz'\n",
            " 'Intel Core i7 6920HQ 2.9GHz' 'Intel Core i5 7Y54 1.2GHz'\n",
            " 'Intel Core i7 7820HK 2.9GHz' 'Intel Xeon E3-1505M V6 3GHz'\n",
            " 'Intel Core i7 6500U 2.5GHz' 'AMD E-Series 9000e 1.5GHz'\n",
            " 'AMD A10-Series A10-9620P 2.5GHz' 'AMD A6-Series A6-9220 2.5GHz'\n",
            " 'Intel Core i5 2.9GHz' 'Intel Core i7 6600U 2.6GHz'\n",
            " 'Intel Core i3 6006U 2.0GHz' 'Intel Celeron Dual Core 3205U 1.5GHz'\n",
            " 'Intel Core i7 7820HQ 2.9GHz' 'AMD A10-Series 9600P 2.4GHz'\n",
            " 'Intel Core i7 7600U 2.8GHz' 'AMD A8-Series 7410 2.2GHz'\n",
            " 'Intel Celeron Dual Core 3855U 1.6GHz'\n",
            " 'Intel Pentium Quad Core N3710 1.6GHz' 'AMD A12-Series 9720P 2.7GHz'\n",
            " 'Intel Core i5 7300U 2.6GHz' 'AMD A12-Series 9720P 3.6GHz'\n",
            " 'Intel Celeron Quad Core N3450 1.1GHz'\n",
            " 'Intel Celeron Dual Core N3060 1.60GHz' 'Intel Core i5 6440HQ 2.6GHz'\n",
            " 'Intel Core i7 6820HQ 2.7GHz' 'AMD Ryzen 1600 3.2GHz'\n",
            " 'Intel Core i7 7Y75 1.3GHz' 'Intel Core i5 7440HQ 2.8GHz'\n",
            " 'Intel Core i7 7660U 2.5GHz' 'Intel Core i7 7700HQ 2.7GHz'\n",
            " 'Intel Core M m3-7Y30 2.2GHz' 'Intel Core i5 7Y57 1.2GHz'\n",
            " 'Intel Core i7 6700HQ 2.6GHz' 'Intel Core i3 6100U 2.3GHz'\n",
            " 'Intel Atom x5-Z8350 1.44GHz' 'AMD A10-Series 9620P 2.5GHz'\n",
            " 'AMD E-Series 7110 1.8GHz' 'Intel Celeron Dual Core N3350 2.0GHz'\n",
            " 'AMD A9-Series A9-9420 3GHz' 'Intel Core i7 6820HK 2.7GHz'\n",
            " 'Intel Core M 7Y30 1.0GHz' 'Intel Xeon E3-1535M v6 3.1GHz'\n",
            " 'Intel Celeron Quad Core N3160 1.6GHz' 'Intel Core i5 6300U 2.4GHz'\n",
            " 'Intel Core i3 6100U 2.1GHz' 'AMD E-Series E2-9000 2.2GHz'\n",
            " 'Intel Celeron Dual Core N3050 1.6GHz' 'Intel Core M M3-6Y30 0.9GHz'\n",
            " 'AMD A9-Series 9420 2.9GHz' 'Intel Core i5 6300HQ 2.3GHz'\n",
            " 'AMD A6-Series 7310 2GHz' 'Intel Atom Z8350 1.92GHz'\n",
            " 'Intel Xeon E3-1535M v5 2.9GHz' 'Intel Core i5 6260U 1.8GHz'\n",
            " 'Intel Pentium Dual Core N4200 1.1GHz'\n",
            " 'Intel Celeron Quad Core N3710 1.6GHz' 'Intel Core M 1.2GHz'\n",
            " 'AMD A12-Series 9700P 2.5GHz' 'Intel Core i7 7500U 2.5GHz'\n",
            " 'Intel Pentium Dual Core 4405U 2.1GHz' 'AMD A4-Series 7210 2.2GHz'\n",
            " 'Intel Core i7 6560U 2.2GHz' 'Intel Core M m7-6Y75 1.2GHz'\n",
            " 'AMD FX 8800P 2.1GHz' 'Intel Core M M7-6Y75 1.2GHz'\n",
            " 'Intel Core i5 7200U 2.50GHz' 'Intel Core i5 7200U 2.70GHz'\n",
            " 'Intel Atom X5-Z8350 1.44GHz' 'Intel Core i5 7200U 2.7GHz'\n",
            " 'Intel Core M 1.1GHz' 'Intel Atom x5-Z8550 1.44GHz'\n",
            " 'Intel Pentium Dual Core 4405Y 1.5GHz'\n",
            " 'Intel Pentium Quad Core N3700 1.6GHz' 'Intel Core M 6Y54 1.1GHz'\n",
            " 'Intel Core i7 6500U 2.50GHz' 'Intel Celeron Dual Core N3350 2GHz'\n",
            " 'Samsung Cortex A72&A53 2.0GHz' 'AMD E-Series 9000 2.2GHz'\n",
            " 'Intel Core M 6Y30 0.9GHz' 'AMD A9-Series 9410 2.9GHz']\n",
            "\n",
            "\n",
            "Unique values of Ram : \n",
            " ['8GB' '16GB' '4GB' '2GB' '12GB' '64GB' '6GB' '32GB' '24GB' '1GB']\n",
            "\n",
            "\n",
            "Unique values of Memory : \n",
            " ['128GB SSD' '128GB Flash Storage' '256GB SSD' '512GB SSD' '500GB HDD'\n",
            " '256GB Flash Storage' '1TB HDD' '128GB SSD +  1TB HDD'\n",
            " '256GB SSD +  256GB SSD' '64GB Flash Storage' '32GB Flash Storage'\n",
            " '256GB SSD +  1TB HDD' '256GB SSD +  2TB HDD' '32GB SSD' '2TB HDD'\n",
            " '64GB SSD' '1.0TB Hybrid' '512GB SSD +  1TB HDD' '1TB SSD'\n",
            " '256GB SSD +  500GB HDD' '128GB SSD +  2TB HDD' '512GB SSD +  512GB SSD'\n",
            " '16GB SSD' '16GB Flash Storage' '512GB SSD +  256GB SSD'\n",
            " '512GB SSD +  2TB HDD' '64GB Flash Storage +  1TB HDD' '180GB SSD'\n",
            " '1TB HDD +  1TB HDD' '32GB HDD' '1TB SSD +  1TB HDD' '?'\n",
            " '512GB Flash Storage' '128GB HDD' '240GB SSD' '8GB SSD' '508GB Hybrid'\n",
            " '1.0TB HDD' '512GB SSD +  1.0TB Hybrid' '256GB SSD +  1.0TB Hybrid']\n",
            "\n",
            "\n",
            "Unique values of Gpu : \n",
            " ['Intel Iris Plus Graphics 640' 'Intel HD Graphics 6000'\n",
            " 'Intel HD Graphics 620' 'AMD Radeon Pro 455'\n",
            " 'Intel Iris Plus Graphics 650' 'AMD Radeon R5' 'Intel Iris Pro Graphics'\n",
            " 'Nvidia GeForce MX150' 'Intel UHD Graphics 620' 'Intel HD Graphics 520'\n",
            " 'AMD Radeon Pro 555' 'AMD Radeon R5 M430' 'Intel HD Graphics 615'\n",
            " 'AMD Radeon Pro 560' 'Nvidia GeForce 940MX' 'Nvidia GeForce GTX 1050'\n",
            " 'AMD Radeon R2' 'AMD Radeon 530' 'Nvidia GeForce 930MX'\n",
            " 'Intel HD Graphics' 'Intel HD Graphics 500' 'Nvidia GeForce 930MX '\n",
            " 'Nvidia GeForce GTX 1060' 'Nvidia GeForce 150MX'\n",
            " 'Intel Iris Graphics 540' 'AMD Radeon RX 580' 'Nvidia GeForce 920MX'\n",
            " 'AMD Radeon R4 Graphics' 'AMD Radeon 520' 'Nvidia GeForce GTX 1070'\n",
            " 'Nvidia GeForce GTX 1050 Ti' 'Intel HD Graphics 400'\n",
            " 'Nvidia GeForce MX130' 'AMD R4 Graphics' 'Nvidia GeForce GTX 940MX'\n",
            " 'AMD Radeon RX 560' 'Nvidia GeForce 920M' 'AMD Radeon R7 M445'\n",
            " 'AMD Radeon RX 550' 'Nvidia GeForce GTX 1050M' 'Intel HD Graphics 515'\n",
            " 'AMD Radeon R5 M420' 'Intel HD Graphics 505' 'Nvidia GTX 980 SLI'\n",
            " 'AMD R17M-M1-70' 'Nvidia GeForce GTX 1080' 'Nvidia Quadro M1200'\n",
            " 'Nvidia GeForce 920MX ' 'Nvidia GeForce GTX 950M' 'AMD FirePro W4190M '\n",
            " 'Nvidia GeForce GTX 980M' 'Intel Iris Graphics 550' 'Nvidia GeForce 930M'\n",
            " 'Intel HD Graphics 630' 'AMD Radeon R5 430' 'Nvidia GeForce GTX 940M'\n",
            " 'Intel HD Graphics 510' 'Intel HD Graphics 405' 'AMD Radeon RX 540'\n",
            " 'Nvidia GeForce GT 940MX' 'AMD FirePro W5130M' 'Nvidia Quadro M2200M'\n",
            " 'AMD Radeon R4' 'Nvidia Quadro M620' 'AMD Radeon R7 M460'\n",
            " 'Intel HD Graphics 530' 'Nvidia GeForce GTX 965M'\n",
            " 'Nvidia GeForce GTX1080' 'Nvidia GeForce GTX1050 Ti'\n",
            " 'Nvidia GeForce GTX 960M' 'AMD Radeon R2 Graphics' 'Nvidia Quadro M620M'\n",
            " 'Nvidia GeForce GTX 970M' 'Nvidia GeForce GTX 960<U+039C>'\n",
            " 'Intel Graphics 620' 'Nvidia GeForce GTX 960' 'AMD Radeon R5 520'\n",
            " 'AMD Radeon R7 M440' 'AMD Radeon R7' 'Nvidia Quadro M520M'\n",
            " 'Nvidia Quadro M2200' 'Nvidia Quadro M2000M' 'Intel HD Graphics 540'\n",
            " 'Nvidia Quadro M1000M' 'AMD Radeon 540' 'Nvidia GeForce GTX 1070M'\n",
            " 'Nvidia GeForce GTX1060' 'Intel HD Graphics 5300' 'AMD Radeon R5 M420X'\n",
            " 'AMD Radeon R7 Graphics' 'Nvidia GeForce 920' 'Nvidia GeForce 940M'\n",
            " 'Nvidia GeForce GTX 930MX' 'AMD Radeon R7 M465' 'AMD Radeon R3'\n",
            " 'Nvidia GeForce GTX 1050Ti' 'AMD Radeon R7 M365X' 'AMD Radeon R9 M385'\n",
            " 'Intel HD Graphics 620 ' 'Nvidia Quadro 3000M' 'Nvidia GeForce GTX 980 '\n",
            " 'AMD Radeon R5 M330' 'AMD FirePro W4190M' 'AMD FirePro W6150M'\n",
            " 'AMD Radeon R5 M315' 'Nvidia Quadro M500M' 'AMD Radeon R7 M360'\n",
            " 'Nvidia Quadro M3000M' 'Nvidia GeForce 960M' 'ARM Mali T860 MP4']\n",
            "\n",
            "\n",
            "Unique values of OpSys : \n",
            " ['macOS' 'No OS' 'Windows 10' 'Mac OS X' 'Linux' 'Windows 10 S'\n",
            " 'Chrome OS' 'Windows 7' 'Android']\n",
            "\n",
            "\n",
            "Unique values of Weight : \n",
            " ['1.37kg' '1.34kg' '1.86kg' '1.83kg' '2.1kg' '2.04kg' '1.3kg' '1.6kg'\n",
            " '2.2kg' '0.92kg' '1.22kg' '2.5kg' '1.62kg' '1.91kg' '2.3kg' '1.35kg'\n",
            " '1.88kg' '1.89kg' '1.65kg' '2.71kg' '1.2kg' '1.44kg' '2.8kg' '2kg'\n",
            " '2.65kg' '2.77kg' '3.2kg' '1.49kg' '2.4kg' '2.13kg' '2.43kg' '1.7kg'\n",
            " '1.4kg' '1.8kg' '1.9kg' '3kg' '1.252kg' '2.7kg' '2.02kg' '1.63kg'\n",
            " '1.96kg' '1.21kg' '2.45kg' '1.25kg' '1.5kg' '2.62kg' '1.38kg' '1.58kg'\n",
            " '1.85kg' '1.23kg' '2.16kg' '2.36kg' '7.2kg' '2.05kg' '1.32kg' '1.75kg'\n",
            " '0.97kg' '2.56kg' '1.48kg' '1.74kg' '1.1kg' '1.56kg' '2.03kg' '1.05kg'\n",
            " '5.4kg' '4.4kg' '1.90kg' '1.29kg' '2.0kg' '1.95kg' '2.06kg' '1.12kg'\n",
            " '3.49kg' '3.35kg' '2.23kg' '?' '2.9kg' '4.42kg' '2.69kg' '2.37kg' '4.7kg'\n",
            " '3.6kg' '2.08kg' '4.3kg' '1.68kg' '1.41kg' '4.14kg' '2.18kg' '2.24kg'\n",
            " '2.67kg' '4.1kg' '2.14kg' '1.36kg' '2.25kg' '2.15kg' '2.19kg' '2.54kg'\n",
            " '3.42kg' '5.8kg' '1.28kg' '2.33kg' '1.45kg' '2.79kg' '8.23kg' '1.26kg'\n",
            " '1.84kg' '0.0002kg' '2.6kg' '2.26kg' '3.25kg' '1.59kg' '1.13kg' '1.42kg'\n",
            " '1.78kg' '1.10kg' '1.15kg' '1.27kg' '1.43kg' '2.31kg' '1.16kg' '1.64kg'\n",
            " '2.17kg' '1.47kg' '3.78kg' '1.79kg' '0.91kg' '1.99kg' '4.33kg' '1.93kg'\n",
            " '1.87kg' '2.63kg' '3.4kg' '3.14kg' '1.94kg' '1.24kg' '4.6kg' '4.5kg'\n",
            " '8.4kg' '2.73kg' '1.39kg' '2.29kg' '2.59kg' '2.94kg' '11.1kg' '1.14kg'\n",
            " '3.8kg' '6.2kg' '3.31kg' '1.09kg' '3.21kg' '1.19kg' '1.98kg' '1.17kg'\n",
            " '4.36kg' '1.71kg' '2.32kg' '4.2kg' '1.55kg' '0.81kg' '1.18kg' '2.72kg'\n",
            " '1.31kg' '0.920kg' '3.74kg' '1.76kg' '1.54kg' '2.83kg' '2.07kg' '2.38kg'\n",
            " '3.58kg' '1.08kg' '2.20kg' '0.98kg' '2.75kg' '1.70kg' '2.99kg' '1.11kg'\n",
            " '2.09kg' '4kg' '3.0kg' '0.99kg' '0.69kg' '3.52kg' '2.591kg' '2.21kg'\n",
            " '3.3kg' '2.191kg' '2.34kg' '4.0kg']\n",
            "\n",
            "\n"
          ]
        }
      ],
      "source": [
        "for columns in df.columns:\n",
        "  if columns != 'Price':\n",
        "    print(f\"Unique values of {columns} : \\n {df[columns].unique()}\")\n",
        "    print('\\n')"
      ]
    },
    {
      "cell_type": "code",
      "execution_count": 140,
      "metadata": {
        "id": "dG8wtLecbs6T"
      },
      "outputs": [],
      "source": [
        "# Create a mask to identify \"?\" in the DataFrame\n",
        "mask = df.applymap(lambda x: x == \"?\")\n",
        "\n",
        "# Get rows containing \"?\"\n",
        "rows_with_question_mark = df[mask.any(axis=1)]\n",
        "\n",
        "# Get columns containing \"?\"\n",
        "columns_with_question_mark = df.loc[:, mask.any(axis=0)]"
      ]
    },
    {
      "cell_type": "code",
      "execution_count": 141,
      "metadata": {
        "colab": {
          "base_uri": "https://localhost:8080/"
        },
        "id": "rzgtbwe2cz6N",
        "outputId": "acc90009-0e6a-484b-f281-4c03e57b1905"
      },
      "outputs": [
        {
          "name": "stdout",
          "output_type": "stream",
          "text": [
            "    Company     TypeName Inches   ScreenResolution  \\\n",
            "208    Dell    Ultrabook   13.3  Full HD 1920x1080   \n",
            "476    Dell  Workstation      ?  Full HD 1920x1080   \n",
            "770    Dell     Notebook   15.6  Full HD 1920x1080   \n",
            "\n",
            "                             Cpu   Ram     Memory                     Gpu  \\\n",
            "208   Intel Core i7 8550U 1.8GHz   8GB  256GB SSD  Intel UHD Graphics 620   \n",
            "476  Intel Core i7 7700HQ 2.8GHz   8GB  256GB SSD     Nvidia Quadro M1200   \n",
            "770   Intel Core i7 7500U 2.7GHz  16GB          ?      AMD Radeon R7 M445   \n",
            "\n",
            "          OpSys  Weight        Price  \n",
            "208  Windows 10       ?   77202.7200  \n",
            "476  Windows 10  1.78kg  128298.2400  \n",
            "770  Windows 10   2.3kg   62938.0656  \n"
          ]
        }
      ],
      "source": [
        "print(rows_with_question_mark)"
      ]
    },
    {
      "cell_type": "code",
      "execution_count": 142,
      "metadata": {
        "colab": {
          "base_uri": "https://localhost:8080/"
        },
        "id": "LEC0gHn6c9h5",
        "outputId": "c578b1d8-a2d6-471b-834c-81c57377715d"
      },
      "outputs": [
        {
          "name": "stdout",
          "output_type": "stream",
          "text": [
            "Company             0\n",
            "TypeName            0\n",
            "Inches              1\n",
            "ScreenResolution    0\n",
            "Cpu                 0\n",
            "Ram                 0\n",
            "Memory              1\n",
            "Gpu                 0\n",
            "OpSys               0\n",
            "Weight              1\n",
            "Price               0\n",
            "dtype: int64\n",
            "Updated DataFrame:\n",
            "    Company     TypeName Inches   ScreenResolution  \\\n",
            "208    Dell    Ultrabook   13.3  Full HD 1920x1080   \n",
            "476    Dell  Workstation   15.6  Full HD 1920x1080   \n",
            "770    Dell     Notebook   15.6  Full HD 1920x1080   \n",
            "\n",
            "                             Cpu   Ram     Memory                     Gpu  \\\n",
            "208   Intel Core i7 8550U 1.8GHz   8GB  256GB SSD  Intel UHD Graphics 620   \n",
            "476  Intel Core i7 7700HQ 2.8GHz   8GB  256GB SSD     Nvidia Quadro M1200   \n",
            "770   Intel Core i7 7500U 2.7GHz  16GB  256GB SSD      AMD Radeon R7 M445   \n",
            "\n",
            "          OpSys  Weight        Price  \n",
            "208  Windows 10   2.2kg   77202.7200  \n",
            "476  Windows 10  1.78kg  128298.2400  \n",
            "770  Windows 10   2.3kg   62938.0656  \n"
          ]
        }
      ],
      "source": [
        "# Replace \"?\" with NaN\n",
        "df.replace(\"?\", np.nan, inplace=True)\n",
        "\n",
        "# Print the number of missing values in each column\n",
        "print(df.isna().sum())\n",
        "\n",
        "# Impute categorical columns with mode\n",
        "for column in df.select_dtypes(include=[object]).columns:\n",
        "    df[column].fillna(df[column].mode()[0], inplace=True)\n",
        "\n",
        "print(\"Updated DataFrame:\")\n",
        "print(df.loc[[208,476,770]])"
      ]
    },
    {
      "cell_type": "markdown",
      "metadata": {
        "id": "_ff0au5RTAFG"
      },
      "source": [
        "OBSERVATION:\n",
        "\n",
        "There are '?' values in columns: Inches, Memory and Weight. Dropped the rows containing '?'."
      ]
    },
    {
      "cell_type": "code",
      "execution_count": 143,
      "metadata": {
        "colab": {
          "base_uri": "https://localhost:8080/"
        },
        "id": "7vaB6m1bTq6N",
        "outputId": "68fff507-5d35-4e79-b795-4b36895356ae"
      },
      "outputs": [
        {
          "name": "stdout",
          "output_type": "stream",
          "text": [
            "<class 'pandas.core.frame.DataFrame'>\n",
            "Index: 1273 entries, 0 to 1302\n",
            "Data columns (total 11 columns):\n",
            " #   Column            Non-Null Count  Dtype  \n",
            "---  ------            --------------  -----  \n",
            " 0   Company           1273 non-null   object \n",
            " 1   TypeName          1273 non-null   object \n",
            " 2   Inches            1273 non-null   object \n",
            " 3   ScreenResolution  1273 non-null   object \n",
            " 4   Cpu               1273 non-null   object \n",
            " 5   Ram               1273 non-null   int64  \n",
            " 6   Memory            1273 non-null   object \n",
            " 7   Gpu               1273 non-null   object \n",
            " 8   OpSys             1273 non-null   object \n",
            " 9   Weight            1273 non-null   float64\n",
            " 10  Price             1273 non-null   float64\n",
            "dtypes: float64(2), int64(1), object(8)\n",
            "memory usage: 151.6+ KB\n"
          ]
        }
      ],
      "source": [
        "df['Ram']= df['Ram'].str.replace('GB',\"\").astype('int')\n",
        "df['Weight'] = df['Weight'].str.replace('kg',\"\").astype('float')\n",
        "df.info()"
      ]
    },
    {
      "cell_type": "markdown",
      "metadata": {},
      "source": [
        "RAM and Weight is converted into numerical values from categorical."
      ]
    },
    {
      "cell_type": "markdown",
      "metadata": {
        "id": "7mYwTNWkJ5CN"
      },
      "source": [
        "## EDA and Feature Engineering"
      ]
    },
    {
      "cell_type": "markdown",
      "metadata": {
        "id": "LfPZoaa5W0HL"
      },
      "source": [
        "### 1. Company"
      ]
    },
    {
      "cell_type": "code",
      "execution_count": 144,
      "metadata": {
        "colab": {
          "base_uri": "https://localhost:8080/",
          "height": 0
        },
        "id": "9mQqjQ-ZF96s",
        "outputId": "251e9274-1c72-4b2f-e27f-63c7352d6fe1"
      },
      "outputs": [
        {
          "data": {
            "image/png": "[encoded data removed]",
            "text/plain": [
              "<Figure size 400x300 with 1 Axes>"
            ]
          },
          "metadata": {},
          "output_type": "display_data"
        }
      ],
      "source": [
        "plt.figure(figsize=(4,3))\n",
        "sns.distplot(df['Price'])\n",
        "plt.show()"
      ]
    },
    {
      "cell_type": "code",
      "execution_count": 145,
      "metadata": {
        "colab": {
          "base_uri": "https://localhost:8080/",
          "height": 0
        },
        "id": "WPXJO9IKUmFQ",
        "outputId": "d83ba30b-8cf0-45e3-a4db-cddc153e468c"
      },
      "outputs": [
        {
          "data": {
            "text/plain": [
              "<Axes: xlabel='Company'>"
            ]
          },
          "execution_count": 145,
          "metadata": {},
          "output_type": "execute_result"
        },
        {
          "data": {
            "image/png": "[encoded data removed]",
            "text/plain": [
              "<Figure size 400x300 with 1 Axes>"
            ]
          },
          "metadata": {},
          "output_type": "display_data"
        }
      ],
      "source": [
        "df['Company'].value_counts().plot(kind='bar',figsize=(4,3))"
      ]
    },
    {
      "cell_type": "code",
      "execution_count": 146,
      "metadata": {
        "colab": {
          "base_uri": "https://localhost:8080/",
          "height": 0
        },
        "id": "8bE15Q8kUvOv",
        "outputId": "10dd414f-4677-47ea-f0b3-2ca6dfa2cf6f"
      },
      "outputs": [
        {
          "data": {
            "image/png": "[encoded data removed]",
            "text/plain": [
              "<Figure size 400x300 with 1 Axes>"
            ]
          },
          "metadata": {},
          "output_type": "display_data"
        }
      ],
      "source": [
        "plt.figure(figsize=(4,3))\n",
        "sns.barplot(x=df['Company'], y = df['Price'])\n",
        "plt.xticks(rotation=90)\n",
        "plt.show()"
      ]
    },
    {
      "cell_type": "markdown",
      "metadata": {},
      "source": [
        "Companies like Razer, LG, Apple is priced higher. However, Lenovo, Dell, HP has been ordered more in comparison to the costlier Laptops."
      ]
    },
    {
      "cell_type": "markdown",
      "metadata": {
        "id": "oacSP869W4W-"
      },
      "source": [
        "### 2. TypeName"
      ]
    },
    {
      "cell_type": "code",
      "execution_count": 147,
      "metadata": {
        "colab": {
          "base_uri": "https://localhost:8080/",
          "height": 0
        },
        "id": "5vMOPIq7VQih",
        "outputId": "353b3227-2b85-4c1b-8591-af80e4742b05"
      },
      "outputs": [
        {
          "data": {
            "text/plain": [
              "<Axes: xlabel='TypeName'>"
            ]
          },
          "execution_count": 147,
          "metadata": {},
          "output_type": "execute_result"
        },
        {
          "data": {
            "image/png": "[encoded data removed]",
            "text/plain": [
              "<Figure size 400x300 with 1 Axes>"
            ]
          },
          "metadata": {},
          "output_type": "display_data"
        }
      ],
      "source": [
        "df['TypeName'].value_counts().plot(kind='bar', figsize=(4,3))"
      ]
    },
    {
      "cell_type": "code",
      "execution_count": 148,
      "metadata": {
        "colab": {
          "base_uri": "https://localhost:8080/",
          "height": 0
        },
        "id": "X6vxtW98VlQm",
        "outputId": "62cea763-3e44-4afc-cd79-3628990bfb0d"
      },
      "outputs": [
        {
          "data": {
            "image/png": "[encoded data removed]",
            "text/plain": [
              "<Figure size 400x300 with 1 Axes>"
            ]
          },
          "metadata": {},
          "output_type": "display_data"
        }
      ],
      "source": [
        "plt.figure(figsize=(4,3))\n",
        "sns.barplot(x=df['TypeName'], y=df['Price'])\n",
        "plt.xticks(rotation = 90)\n",
        "plt.show()"
      ]
    },
    {
      "cell_type": "markdown",
      "metadata": {},
      "source": [
        "It can be noted that Notebook being the least costlied has been ordered more often."
      ]
    },
    {
      "cell_type": "markdown",
      "metadata": {
        "id": "Dc8BHLkhW8h6"
      },
      "source": [
        "### 3. Inches"
      ]
    },
    {
      "cell_type": "code",
      "execution_count": 149,
      "metadata": {
        "colab": {
          "base_uri": "https://localhost:8080/",
          "height": 0
        },
        "id": "cP-t8d2IWwlR",
        "outputId": "9d0d2076-859b-420b-aaba-f808a36b48b3"
      },
      "outputs": [
        {
          "data": {
            "image/png": "[encoded data removed]",
            "text/plain": [
              "<Figure size 400x300 with 1 Axes>"
            ]
          },
          "metadata": {},
          "output_type": "display_data"
        }
      ],
      "source": [
        "plt.figure(figsize=(4,3))\n",
        "sns.distplot(x=df['Inches'])\n",
        "plt.xticks(rotation=90)\n",
        "plt.show()"
      ]
    },
    {
      "cell_type": "code",
      "execution_count": 150,
      "metadata": {
        "colab": {
          "base_uri": "https://localhost:8080/",
          "height": 0
        },
        "id": "f9cwdgopXTU_",
        "outputId": "d4664791-f17c-4984-fbfe-41e9728b9c72"
      },
      "outputs": [
        {
          "data": {
            "image/png": "[encoded data removed]",
            "text/plain": [
              "<Figure size 400x300 with 1 Axes>"
            ]
          },
          "metadata": {},
          "output_type": "display_data"
        }
      ],
      "source": [
        "plt.figure(figsize=(4,3))\n",
        "sns.scatterplot(x=df['Inches'], y=df['Price'])\n",
        "plt.xticks(rotation=90)\n",
        "plt.show()"
      ]
    },
    {
      "cell_type": "markdown",
      "metadata": {},
      "source": [
        "Laptops with screen size around 15 inches is in higher demand, while laptops with 17 inches are on costlier edge."
      ]
    },
    {
      "cell_type": "markdown",
      "metadata": {
        "id": "nkz-KZVYYIU3"
      },
      "source": [
        "### 4. ScreenResolution- Touchscreen"
      ]
    },
    {
      "cell_type": "markdown",
      "metadata": {
        "id": "FC0nhhnMctTg"
      },
      "source": [
        "Exctracting whether the Screen is Touchscreen or not from ScreenResolution"
      ]
    },
    {
      "cell_type": "code",
      "execution_count": 151,
      "metadata": {
        "colab": {
          "base_uri": "https://localhost:8080/",
          "height": 0
        },
        "id": "n5a5nczaXtfe",
        "outputId": "65702546-5911-4894-fd93-250c6442ebae"
      },
      "outputs": [
        {
          "data": {
            "text/html": [
              "<div>\n",
              "<style scoped>\n",
              "    .dataframe tbody tr th:only-of-type {\n",
              "        vertical-align: middle;\n",
              "    }\n",
              "\n",
              "    .dataframe tbody tr th {\n",
              "        vertical-align: top;\n",
              "    }\n",
              "\n",
              "    .dataframe thead th {\n",
              "        text-align: right;\n",
              "    }\n",
              "</style>\n",
              "<table border=\"1\" class=\"dataframe\">\n",
              "  <thead>\n",
              "    <tr style=\"text-align: right;\">\n",
              "      <th></th>\n",
              "      <th>Company</th>\n",
              "      <th>TypeName</th>\n",
              "      <th>Inches</th>\n",
              "      <th>ScreenResolution</th>\n",
              "      <th>Cpu</th>\n",
              "      <th>Ram</th>\n",
              "      <th>Memory</th>\n",
              "      <th>Gpu</th>\n",
              "      <th>OpSys</th>\n",
              "      <th>Weight</th>\n",
              "      <th>Price</th>\n",
              "      <th>Touchscreen</th>\n",
              "    </tr>\n",
              "  </thead>\n",
              "  <tbody>\n",
              "    <tr>\n",
              "      <th>0</th>\n",
              "      <td>Apple</td>\n",
              "      <td>Ultrabook</td>\n",
              "      <td>13.3</td>\n",
              "      <td>IPS Panel Retina Display 2560x1600</td>\n",
              "      <td>Intel Core i5 2.3GHz</td>\n",
              "      <td>8</td>\n",
              "      <td>128GB SSD</td>\n",
              "      <td>Intel Iris Plus Graphics 640</td>\n",
              "      <td>macOS</td>\n",
              "      <td>1.37</td>\n",
              "      <td>71378.6832</td>\n",
              "      <td>0</td>\n",
              "    </tr>\n",
              "    <tr>\n",
              "      <th>1</th>\n",
              "      <td>Apple</td>\n",
              "      <td>Ultrabook</td>\n",
              "      <td>13.3</td>\n",
              "      <td>1440x900</td>\n",
              "      <td>Intel Core i5 1.8GHz</td>\n",
              "      <td>8</td>\n",
              "      <td>128GB Flash Storage</td>\n",
              "      <td>Intel HD Graphics 6000</td>\n",
              "      <td>macOS</td>\n",
              "      <td>1.34</td>\n",
              "      <td>47895.5232</td>\n",
              "      <td>0</td>\n",
              "    </tr>\n",
              "  </tbody>\n",
              "</table>\n",
              "</div>"
            ],
            "text/plain": [
              "  Company   TypeName Inches                    ScreenResolution  \\\n",
              "0   Apple  Ultrabook   13.3  IPS Panel Retina Display 2560x1600   \n",
              "1   Apple  Ultrabook   13.3                            1440x900   \n",
              "\n",
              "                    Cpu  Ram               Memory  \\\n",
              "0  Intel Core i5 2.3GHz    8            128GB SSD   \n",
              "1  Intel Core i5 1.8GHz    8  128GB Flash Storage   \n",
              "\n",
              "                            Gpu  OpSys  Weight       Price  Touchscreen  \n",
              "0  Intel Iris Plus Graphics 640  macOS    1.37  71378.6832            0  \n",
              "1        Intel HD Graphics 6000  macOS    1.34  47895.5232            0  "
            ]
          },
          "execution_count": 151,
          "metadata": {},
          "output_type": "execute_result"
        }
      ],
      "source": [
        "df['Touchscreen'] = df['ScreenResolution'].apply(lambda x: 1 if 'Touchscreen' in x else 0)\n",
        "df.head(2)"
      ]
    },
    {
      "cell_type": "code",
      "execution_count": 152,
      "metadata": {
        "colab": {
          "base_uri": "https://localhost:8080/",
          "height": 0
        },
        "id": "fnHnnmMnYcDD",
        "outputId": "64daaad8-f9d5-4087-fc0b-13ef707b8b15"
      },
      "outputs": [
        {
          "data": {
            "text/plain": [
              "<Axes: xlabel='Touchscreen'>"
            ]
          },
          "execution_count": 152,
          "metadata": {},
          "output_type": "execute_result"
        },
        {
          "data": {
            "image/png": "[encoded data removed]",
            "text/plain": [
              "<Figure size 400x300 with 1 Axes>"
            ]
          },
          "metadata": {},
          "output_type": "display_data"
        }
      ],
      "source": [
        "df['Touchscreen'].value_counts().plot(kind='bar', figsize=(4,3))"
      ]
    },
    {
      "cell_type": "code",
      "execution_count": 153,
      "metadata": {
        "colab": {
          "base_uri": "https://localhost:8080/",
          "height": 0
        },
        "id": "03gokPniYnww",
        "outputId": "96bd3aaf-7449-4ace-f482-ad8bf5d86156"
      },
      "outputs": [
        {
          "data": {
            "image/png": "[encoded data removed]",
            "text/plain": [
              "<Figure size 400x300 with 1 Axes>"
            ]
          },
          "metadata": {},
          "output_type": "display_data"
        }
      ],
      "source": [
        "plt.figure(figsize=(4,3))\n",
        "sns.barplot(x=df['Touchscreen'], y=df['Price'])\n",
        "plt.show()"
      ]
    },
    {
      "cell_type": "markdown",
      "metadata": {},
      "source": [
        "ScreenResolution column is used to determine whether the Laptop is TOouchscreen or not.\n",
        "Higher demand for non touchscreen laptops. Touchscreen Laptops are as expected on costlier edge"
      ]
    },
    {
      "cell_type": "markdown",
      "metadata": {
        "id": "mn7LhmrWY_XX"
      },
      "source": [
        "### 5. ScreenResolution - IPS"
      ]
    },
    {
      "cell_type": "markdown",
      "metadata": {
        "id": "OKr2IhiBc5Fl"
      },
      "source": [
        "Extracting whether Screen contains IPS technology or not"
      ]
    },
    {
      "cell_type": "code",
      "execution_count": 154,
      "metadata": {
        "colab": {
          "base_uri": "https://localhost:8080/",
          "height": 0
        },
        "id": "hUOOU59SY1se",
        "outputId": "ee6bd62f-5398-476f-a2a1-5dcbec375cf2"
      },
      "outputs": [
        {
          "data": {
            "text/html": [
              "<div>\n",
              "<style scoped>\n",
              "    .dataframe tbody tr th:only-of-type {\n",
              "        vertical-align: middle;\n",
              "    }\n",
              "\n",
              "    .dataframe tbody tr th {\n",
              "        vertical-align: top;\n",
              "    }\n",
              "\n",
              "    .dataframe thead th {\n",
              "        text-align: right;\n",
              "    }\n",
              "</style>\n",
              "<table border=\"1\" class=\"dataframe\">\n",
              "  <thead>\n",
              "    <tr style=\"text-align: right;\">\n",
              "      <th></th>\n",
              "      <th>Company</th>\n",
              "      <th>TypeName</th>\n",
              "      <th>Inches</th>\n",
              "      <th>ScreenResolution</th>\n",
              "      <th>Cpu</th>\n",
              "      <th>Ram</th>\n",
              "      <th>Memory</th>\n",
              "      <th>Gpu</th>\n",
              "      <th>OpSys</th>\n",
              "      <th>Weight</th>\n",
              "      <th>Price</th>\n",
              "      <th>Touchscreen</th>\n",
              "      <th>Ips</th>\n",
              "    </tr>\n",
              "  </thead>\n",
              "  <tbody>\n",
              "    <tr>\n",
              "      <th>0</th>\n",
              "      <td>Apple</td>\n",
              "      <td>Ultrabook</td>\n",
              "      <td>13.3</td>\n",
              "      <td>IPS Panel Retina Display 2560x1600</td>\n",
              "      <td>Intel Core i5 2.3GHz</td>\n",
              "      <td>8</td>\n",
              "      <td>128GB SSD</td>\n",
              "      <td>Intel Iris Plus Graphics 640</td>\n",
              "      <td>macOS</td>\n",
              "      <td>1.37</td>\n",
              "      <td>71378.6832</td>\n",
              "      <td>0</td>\n",
              "      <td>1</td>\n",
              "    </tr>\n",
              "    <tr>\n",
              "      <th>1</th>\n",
              "      <td>Apple</td>\n",
              "      <td>Ultrabook</td>\n",
              "      <td>13.3</td>\n",
              "      <td>1440x900</td>\n",
              "      <td>Intel Core i5 1.8GHz</td>\n",
              "      <td>8</td>\n",
              "      <td>128GB Flash Storage</td>\n",
              "      <td>Intel HD Graphics 6000</td>\n",
              "      <td>macOS</td>\n",
              "      <td>1.34</td>\n",
              "      <td>47895.5232</td>\n",
              "      <td>0</td>\n",
              "      <td>0</td>\n",
              "    </tr>\n",
              "  </tbody>\n",
              "</table>\n",
              "</div>"
            ],
            "text/plain": [
              "  Company   TypeName Inches                    ScreenResolution  \\\n",
              "0   Apple  Ultrabook   13.3  IPS Panel Retina Display 2560x1600   \n",
              "1   Apple  Ultrabook   13.3                            1440x900   \n",
              "\n",
              "                    Cpu  Ram               Memory  \\\n",
              "0  Intel Core i5 2.3GHz    8            128GB SSD   \n",
              "1  Intel Core i5 1.8GHz    8  128GB Flash Storage   \n",
              "\n",
              "                            Gpu  OpSys  Weight       Price  Touchscreen  Ips  \n",
              "0  Intel Iris Plus Graphics 640  macOS    1.37  71378.6832            0    1  \n",
              "1        Intel HD Graphics 6000  macOS    1.34  47895.5232            0    0  "
            ]
          },
          "execution_count": 154,
          "metadata": {},
          "output_type": "execute_result"
        }
      ],
      "source": [
        "df['Ips'] = df['ScreenResolution'].apply(lambda x: 1 if 'IPS' in x else 0)\n",
        "df.head(2)"
      ]
    },
    {
      "cell_type": "code",
      "execution_count": 155,
      "metadata": {
        "colab": {
          "base_uri": "https://localhost:8080/",
          "height": 0
        },
        "id": "DIv3vdclZdh6",
        "outputId": "ad177a5c-32b0-4a14-b110-ebe8ddd9cc2d"
      },
      "outputs": [
        {
          "data": {
            "image/png": "[encoded data removed]",
            "text/plain": [
              "<Figure size 400x300 with 1 Axes>"
            ]
          },
          "metadata": {},
          "output_type": "display_data"
        }
      ],
      "source": [
        "plt.figure(figsize=(4,3))\n",
        "sns.barplot(x=df[\"Ips\"],y=df[\"Price\"])\n",
        "plt.show()"
      ]
    },
    {
      "cell_type": "markdown",
      "metadata": {},
      "source": [
        "IPS Display is derived from ScreenResolution column. IPS Display laptops are priced higher."
      ]
    },
    {
      "cell_type": "markdown",
      "metadata": {
        "id": "dD0ifnryalmO"
      },
      "source": [
        "### 6. ScreenResolution"
      ]
    },
    {
      "cell_type": "markdown",
      "metadata": {
        "id": "1HqhTfwddKrL"
      },
      "source": [
        "Extracting the width X and height Y from ScreenResolution column.\n",
        "\n",
        "Then finding PPI pixel per inch by formula :  √(w² + h²)/inches"
      ]
    },
    {
      "cell_type": "code",
      "execution_count": 156,
      "metadata": {
        "colab": {
          "base_uri": "https://localhost:8080/"
        },
        "id": "SdsvsOuucC14",
        "outputId": "62758918-13e8-4190-e55a-bb4f65425111"
      },
      "outputs": [
        {
          "data": {
            "text/plain": [
              "0    IPS Panel Retina Display 2560x1600\n",
              "1                              1440x900\n",
              "Name: ScreenResolution, dtype: object"
            ]
          },
          "execution_count": 156,
          "metadata": {},
          "output_type": "execute_result"
        }
      ],
      "source": [
        "df['ScreenResolution'].head(2)"
      ]
    },
    {
      "cell_type": "code",
      "execution_count": 157,
      "metadata": {
        "colab": {
          "base_uri": "https://localhost:8080/",
          "height": 0
        },
        "id": "KbpUnrg8Zrhi",
        "outputId": "8964d900-957a-47c2-8e53-2569cfb994fd"
      },
      "outputs": [
        {
          "data": {
            "text/html": [
              "<div>\n",
              "<style scoped>\n",
              "    .dataframe tbody tr th:only-of-type {\n",
              "        vertical-align: middle;\n",
              "    }\n",
              "\n",
              "    .dataframe tbody tr th {\n",
              "        vertical-align: top;\n",
              "    }\n",
              "\n",
              "    .dataframe thead th {\n",
              "        text-align: right;\n",
              "    }\n",
              "</style>\n",
              "<table border=\"1\" class=\"dataframe\">\n",
              "  <thead>\n",
              "    <tr style=\"text-align: right;\">\n",
              "      <th></th>\n",
              "      <th>Company</th>\n",
              "      <th>TypeName</th>\n",
              "      <th>Inches</th>\n",
              "      <th>ScreenResolution</th>\n",
              "      <th>Cpu</th>\n",
              "      <th>Ram</th>\n",
              "      <th>Memory</th>\n",
              "      <th>Gpu</th>\n",
              "      <th>OpSys</th>\n",
              "      <th>Weight</th>\n",
              "      <th>Price</th>\n",
              "      <th>Touchscreen</th>\n",
              "      <th>Ips</th>\n",
              "      <th>X</th>\n",
              "      <th>Y_res</th>\n",
              "    </tr>\n",
              "  </thead>\n",
              "  <tbody>\n",
              "    <tr>\n",
              "      <th>0</th>\n",
              "      <td>Apple</td>\n",
              "      <td>Ultrabook</td>\n",
              "      <td>13.3</td>\n",
              "      <td>IPS Panel Retina Display 2560x1600</td>\n",
              "      <td>Intel Core i5 2.3GHz</td>\n",
              "      <td>8</td>\n",
              "      <td>128GB SSD</td>\n",
              "      <td>Intel Iris Plus Graphics 640</td>\n",
              "      <td>macOS</td>\n",
              "      <td>1.37</td>\n",
              "      <td>71378.6832</td>\n",
              "      <td>0</td>\n",
              "      <td>1</td>\n",
              "      <td>IPS Panel Retina Display 2560</td>\n",
              "      <td>1600</td>\n",
              "    </tr>\n",
              "    <tr>\n",
              "      <th>1</th>\n",
              "      <td>Apple</td>\n",
              "      <td>Ultrabook</td>\n",
              "      <td>13.3</td>\n",
              "      <td>1440x900</td>\n",
              "      <td>Intel Core i5 1.8GHz</td>\n",
              "      <td>8</td>\n",
              "      <td>128GB Flash Storage</td>\n",
              "      <td>Intel HD Graphics 6000</td>\n",
              "      <td>macOS</td>\n",
              "      <td>1.34</td>\n",
              "      <td>47895.5232</td>\n",
              "      <td>0</td>\n",
              "      <td>0</td>\n",
              "      <td>1440</td>\n",
              "      <td>900</td>\n",
              "    </tr>\n",
              "  </tbody>\n",
              "</table>\n",
              "</div>"
            ],
            "text/plain": [
              "  Company   TypeName Inches                    ScreenResolution  \\\n",
              "0   Apple  Ultrabook   13.3  IPS Panel Retina Display 2560x1600   \n",
              "1   Apple  Ultrabook   13.3                            1440x900   \n",
              "\n",
              "                    Cpu  Ram               Memory  \\\n",
              "0  Intel Core i5 2.3GHz    8            128GB SSD   \n",
              "1  Intel Core i5 1.8GHz    8  128GB Flash Storage   \n",
              "\n",
              "                            Gpu  OpSys  Weight       Price  Touchscreen  Ips  \\\n",
              "0  Intel Iris Plus Graphics 640  macOS    1.37  71378.6832            0    1   \n",
              "1        Intel HD Graphics 6000  macOS    1.34  47895.5232            0    0   \n",
              "\n",
              "                               X Y_res  \n",
              "0  IPS Panel Retina Display 2560  1600  \n",
              "1                           1440   900  "
            ]
          },
          "execution_count": 157,
          "metadata": {},
          "output_type": "execute_result"
        }
      ],
      "source": [
        "temp = df['ScreenResolution'].str.split(\"x\", n=1, expand = True)\n",
        "df['X'] = temp[0]\n",
        "df['Y_res'] = temp[1]\n",
        "df.head(2)"
      ]
    },
    {
      "cell_type": "code",
      "execution_count": 158,
      "metadata": {
        "colab": {
          "base_uri": "https://localhost:8080/",
          "height": 0
        },
        "id": "HCv_uaFdeDqk",
        "outputId": "e459112f-4bfd-458e-e007-8fa4a212c8b6"
      },
      "outputs": [
        {
          "data": {
            "text/html": [
              "<div>\n",
              "<style scoped>\n",
              "    .dataframe tbody tr th:only-of-type {\n",
              "        vertical-align: middle;\n",
              "    }\n",
              "\n",
              "    .dataframe tbody tr th {\n",
              "        vertical-align: top;\n",
              "    }\n",
              "\n",
              "    .dataframe thead th {\n",
              "        text-align: right;\n",
              "    }\n",
              "</style>\n",
              "<table border=\"1\" class=\"dataframe\">\n",
              "  <thead>\n",
              "    <tr style=\"text-align: right;\">\n",
              "      <th></th>\n",
              "      <th>Company</th>\n",
              "      <th>TypeName</th>\n",
              "      <th>Inches</th>\n",
              "      <th>ScreenResolution</th>\n",
              "      <th>Cpu</th>\n",
              "      <th>Ram</th>\n",
              "      <th>Memory</th>\n",
              "      <th>Gpu</th>\n",
              "      <th>OpSys</th>\n",
              "      <th>Weight</th>\n",
              "      <th>Price</th>\n",
              "      <th>Touchscreen</th>\n",
              "      <th>Ips</th>\n",
              "      <th>X</th>\n",
              "      <th>Y_res</th>\n",
              "      <th>X_res</th>\n",
              "    </tr>\n",
              "  </thead>\n",
              "  <tbody>\n",
              "    <tr>\n",
              "      <th>0</th>\n",
              "      <td>Apple</td>\n",
              "      <td>Ultrabook</td>\n",
              "      <td>13.3</td>\n",
              "      <td>IPS Panel Retina Display 2560x1600</td>\n",
              "      <td>Intel Core i5 2.3GHz</td>\n",
              "      <td>8</td>\n",
              "      <td>128GB SSD</td>\n",
              "      <td>Intel Iris Plus Graphics 640</td>\n",
              "      <td>macOS</td>\n",
              "      <td>1.37</td>\n",
              "      <td>71378.6832</td>\n",
              "      <td>0</td>\n",
              "      <td>1</td>\n",
              "      <td>IPS Panel Retina Display 2560</td>\n",
              "      <td>1600</td>\n",
              "      <td>2560</td>\n",
              "    </tr>\n",
              "    <tr>\n",
              "      <th>1</th>\n",
              "      <td>Apple</td>\n",
              "      <td>Ultrabook</td>\n",
              "      <td>13.3</td>\n",
              "      <td>1440x900</td>\n",
              "      <td>Intel Core i5 1.8GHz</td>\n",
              "      <td>8</td>\n",
              "      <td>128GB Flash Storage</td>\n",
              "      <td>Intel HD Graphics 6000</td>\n",
              "      <td>macOS</td>\n",
              "      <td>1.34</td>\n",
              "      <td>47895.5232</td>\n",
              "      <td>0</td>\n",
              "      <td>0</td>\n",
              "      <td>1440</td>\n",
              "      <td>900</td>\n",
              "      <td>1440</td>\n",
              "    </tr>\n",
              "  </tbody>\n",
              "</table>\n",
              "</div>"
            ],
            "text/plain": [
              "  Company   TypeName Inches                    ScreenResolution  \\\n",
              "0   Apple  Ultrabook   13.3  IPS Panel Retina Display 2560x1600   \n",
              "1   Apple  Ultrabook   13.3                            1440x900   \n",
              "\n",
              "                    Cpu  Ram               Memory  \\\n",
              "0  Intel Core i5 2.3GHz    8            128GB SSD   \n",
              "1  Intel Core i5 1.8GHz    8  128GB Flash Storage   \n",
              "\n",
              "                            Gpu  OpSys  Weight       Price  Touchscreen  Ips  \\\n",
              "0  Intel Iris Plus Graphics 640  macOS    1.37  71378.6832            0    1   \n",
              "1        Intel HD Graphics 6000  macOS    1.34  47895.5232            0    0   \n",
              "\n",
              "                               X Y_res X_res  \n",
              "0  IPS Panel Retina Display 2560  1600  2560  \n",
              "1                           1440   900  1440  "
            ]
          },
          "execution_count": 158,
          "metadata": {},
          "output_type": "execute_result"
        }
      ],
      "source": [
        "df['X_res'] = df['X'].str.replace(',','').str.findall(r'\\d+\\.?\\d+').apply(lambda x:x[0])\n",
        "df.head(2)"
      ]
    },
    {
      "cell_type": "code",
      "execution_count": 159,
      "metadata": {
        "colab": {
          "base_uri": "https://localhost:8080/"
        },
        "id": "bzCrPPLtfG4_",
        "outputId": "a8b2648e-1574-46db-b7ef-4df212b1febf"
      },
      "outputs": [
        {
          "name": "stdout",
          "output_type": "stream",
          "text": [
            "<class 'pandas.core.frame.DataFrame'>\n",
            "Index: 1273 entries, 0 to 1302\n",
            "Data columns (total 16 columns):\n",
            " #   Column            Non-Null Count  Dtype  \n",
            "---  ------            --------------  -----  \n",
            " 0   Company           1273 non-null   object \n",
            " 1   TypeName          1273 non-null   object \n",
            " 2   Inches            1273 non-null   float64\n",
            " 3   ScreenResolution  1273 non-null   object \n",
            " 4   Cpu               1273 non-null   object \n",
            " 5   Ram               1273 non-null   int64  \n",
            " 6   Memory            1273 non-null   object \n",
            " 7   Gpu               1273 non-null   object \n",
            " 8   OpSys             1273 non-null   object \n",
            " 9   Weight            1273 non-null   float64\n",
            " 10  Price             1273 non-null   float64\n",
            " 11  Touchscreen       1273 non-null   int64  \n",
            " 12  Ips               1273 non-null   int64  \n",
            " 13  X                 1273 non-null   object \n",
            " 14  Y_res             1273 non-null   int64  \n",
            " 15  X_res             1273 non-null   int64  \n",
            "dtypes: float64(3), int64(5), object(8)\n",
            "memory usage: 201.4+ KB\n"
          ]
        }
      ],
      "source": [
        "df['X_res'] = df['X_res'].astype('int')\n",
        "df['Y_res'] = df['Y_res'].astype('int')\n",
        "df['Inches'] = df['Inches'].astype('float')\n",
        "df.info()"
      ]
    },
    {
      "cell_type": "code",
      "execution_count": 160,
      "metadata": {
        "id": "7x0mChBxfLMP"
      },
      "outputs": [],
      "source": [
        "df['PPI'] = (((df['X_res']**2) + (df['Y_res']**2))**0.5/df['Inches']).astype('float')"
      ]
    },
    {
      "cell_type": "code",
      "execution_count": 161,
      "metadata": {},
      "outputs": [
        {
          "data": {
            "image/png": "[encoded data removed]",
            "text/plain": [
              "<Figure size 1000x300 with 1 Axes>"
            ]
          },
          "metadata": {},
          "output_type": "display_data"
        }
      ],
      "source": [
        "plt.figure(figsize=(10,3))\n",
        "sns.barplot(x=df['PPI'], y=df['Price'])\n",
        "plt.xticks(rotation = 90)\n",
        "plt.show()"
      ]
    },
    {
      "cell_type": "code",
      "execution_count": 162,
      "metadata": {
        "colab": {
          "base_uri": "https://localhost:8080/",
          "height": 0
        },
        "id": "i1Wt4Dt_fh27",
        "outputId": "193f91bb-4dc3-412c-8d61-0a54261e954c"
      },
      "outputs": [
        {
          "data": {
            "text/html": [
              "<div>\n",
              "<style scoped>\n",
              "    .dataframe tbody tr th:only-of-type {\n",
              "        vertical-align: middle;\n",
              "    }\n",
              "\n",
              "    .dataframe tbody tr th {\n",
              "        vertical-align: top;\n",
              "    }\n",
              "\n",
              "    .dataframe thead th {\n",
              "        text-align: right;\n",
              "    }\n",
              "</style>\n",
              "<table border=\"1\" class=\"dataframe\">\n",
              "  <thead>\n",
              "    <tr style=\"text-align: right;\">\n",
              "      <th></th>\n",
              "      <th>Company</th>\n",
              "      <th>TypeName</th>\n",
              "      <th>Cpu</th>\n",
              "      <th>Ram</th>\n",
              "      <th>Memory</th>\n",
              "      <th>Gpu</th>\n",
              "      <th>OpSys</th>\n",
              "      <th>Weight</th>\n",
              "      <th>Price</th>\n",
              "      <th>Touchscreen</th>\n",
              "      <th>Ips</th>\n",
              "      <th>PPI</th>\n",
              "    </tr>\n",
              "  </thead>\n",
              "  <tbody>\n",
              "    <tr>\n",
              "      <th>0</th>\n",
              "      <td>Apple</td>\n",
              "      <td>Ultrabook</td>\n",
              "      <td>Intel Core i5 2.3GHz</td>\n",
              "      <td>8</td>\n",
              "      <td>128GB SSD</td>\n",
              "      <td>Intel Iris Plus Graphics 640</td>\n",
              "      <td>macOS</td>\n",
              "      <td>1.37</td>\n",
              "      <td>71378.6832</td>\n",
              "      <td>0</td>\n",
              "      <td>1</td>\n",
              "      <td>226.983005</td>\n",
              "    </tr>\n",
              "    <tr>\n",
              "      <th>1</th>\n",
              "      <td>Apple</td>\n",
              "      <td>Ultrabook</td>\n",
              "      <td>Intel Core i5 1.8GHz</td>\n",
              "      <td>8</td>\n",
              "      <td>128GB Flash Storage</td>\n",
              "      <td>Intel HD Graphics 6000</td>\n",
              "      <td>macOS</td>\n",
              "      <td>1.34</td>\n",
              "      <td>47895.5232</td>\n",
              "      <td>0</td>\n",
              "      <td>0</td>\n",
              "      <td>127.677940</td>\n",
              "    </tr>\n",
              "  </tbody>\n",
              "</table>\n",
              "</div>"
            ],
            "text/plain": [
              "  Company   TypeName                   Cpu  Ram               Memory  \\\n",
              "0   Apple  Ultrabook  Intel Core i5 2.3GHz    8            128GB SSD   \n",
              "1   Apple  Ultrabook  Intel Core i5 1.8GHz    8  128GB Flash Storage   \n",
              "\n",
              "                            Gpu  OpSys  Weight       Price  Touchscreen  Ips  \\\n",
              "0  Intel Iris Plus Graphics 640  macOS    1.37  71378.6832            0    1   \n",
              "1        Intel HD Graphics 6000  macOS    1.34  47895.5232            0    0   \n",
              "\n",
              "          PPI  \n",
              "0  226.983005  \n",
              "1  127.677940  "
            ]
          },
          "execution_count": 162,
          "metadata": {},
          "output_type": "execute_result"
        }
      ],
      "source": [
        "df.drop(columns=['ScreenResolution','X','X_res','Y_res','Inches'], axis=1, inplace = True)\n",
        "df.head(2)"
      ]
    },
    {
      "cell_type": "markdown",
      "metadata": {
        "id": "FmK_kQVohB2L"
      },
      "source": [
        "Pixels per Inches is derived from ScreenResolution and Inches columns. Hence dropping columns X_res, Y_res and Inches and also Screen Resolution since already used in PPI column. "
      ]
    },
    {
      "cell_type": "markdown",
      "metadata": {
        "id": "pqgxOieEiKUE"
      },
      "source": [
        "### 7. CPU"
      ]
    },
    {
      "cell_type": "code",
      "execution_count": 163,
      "metadata": {
        "colab": {
          "base_uri": "https://localhost:8080/",
          "height": 0
        },
        "id": "rEmLQyACh1Hb",
        "outputId": "0ca15ecf-6c64-438b-bbaa-18d0f2d3f62b"
      },
      "outputs": [
        {
          "data": {
            "text/html": [
              "<div>\n",
              "<style scoped>\n",
              "    .dataframe tbody tr th:only-of-type {\n",
              "        vertical-align: middle;\n",
              "    }\n",
              "\n",
              "    .dataframe tbody tr th {\n",
              "        vertical-align: top;\n",
              "    }\n",
              "\n",
              "    .dataframe thead th {\n",
              "        text-align: right;\n",
              "    }\n",
              "</style>\n",
              "<table border=\"1\" class=\"dataframe\">\n",
              "  <thead>\n",
              "    <tr style=\"text-align: right;\">\n",
              "      <th></th>\n",
              "      <th>Company</th>\n",
              "      <th>TypeName</th>\n",
              "      <th>Cpu</th>\n",
              "      <th>Ram</th>\n",
              "      <th>Memory</th>\n",
              "      <th>Gpu</th>\n",
              "      <th>OpSys</th>\n",
              "      <th>Weight</th>\n",
              "      <th>Price</th>\n",
              "      <th>Touchscreen</th>\n",
              "      <th>Ips</th>\n",
              "      <th>PPI</th>\n",
              "      <th>CPU Name</th>\n",
              "    </tr>\n",
              "  </thead>\n",
              "  <tbody>\n",
              "    <tr>\n",
              "      <th>0</th>\n",
              "      <td>Apple</td>\n",
              "      <td>Ultrabook</td>\n",
              "      <td>Intel Core i5 2.3GHz</td>\n",
              "      <td>8</td>\n",
              "      <td>128GB SSD</td>\n",
              "      <td>Intel Iris Plus Graphics 640</td>\n",
              "      <td>macOS</td>\n",
              "      <td>1.37</td>\n",
              "      <td>71378.6832</td>\n",
              "      <td>0</td>\n",
              "      <td>1</td>\n",
              "      <td>226.983005</td>\n",
              "      <td>Intel Core i5</td>\n",
              "    </tr>\n",
              "    <tr>\n",
              "      <th>1</th>\n",
              "      <td>Apple</td>\n",
              "      <td>Ultrabook</td>\n",
              "      <td>Intel Core i5 1.8GHz</td>\n",
              "      <td>8</td>\n",
              "      <td>128GB Flash Storage</td>\n",
              "      <td>Intel HD Graphics 6000</td>\n",
              "      <td>macOS</td>\n",
              "      <td>1.34</td>\n",
              "      <td>47895.5232</td>\n",
              "      <td>0</td>\n",
              "      <td>0</td>\n",
              "      <td>127.677940</td>\n",
              "      <td>Intel Core i5</td>\n",
              "    </tr>\n",
              "  </tbody>\n",
              "</table>\n",
              "</div>"
            ],
            "text/plain": [
              "  Company   TypeName                   Cpu  Ram               Memory  \\\n",
              "0   Apple  Ultrabook  Intel Core i5 2.3GHz    8            128GB SSD   \n",
              "1   Apple  Ultrabook  Intel Core i5 1.8GHz    8  128GB Flash Storage   \n",
              "\n",
              "                            Gpu  OpSys  Weight       Price  Touchscreen  Ips  \\\n",
              "0  Intel Iris Plus Graphics 640  macOS    1.37  71378.6832            0    1   \n",
              "1        Intel HD Graphics 6000  macOS    1.34  47895.5232            0    0   \n",
              "\n",
              "          PPI       CPU Name  \n",
              "0  226.983005  Intel Core i5  \n",
              "1  127.677940  Intel Core i5  "
            ]
          },
          "execution_count": 163,
          "metadata": {},
          "output_type": "execute_result"
        }
      ],
      "source": [
        "df['CPU Name'] = df['Cpu'].apply(lambda x: \" \".join(x.split()[0:3]))\n",
        "df.head(2)"
      ]
    },
    {
      "cell_type": "code",
      "execution_count": 164,
      "metadata": {
        "colab": {
          "base_uri": "https://localhost:8080/"
        },
        "id": "Q3k2FSmMi1ba",
        "outputId": "0d12512b-8f14-4f18-87cf-abac3b106e1e"
      },
      "outputs": [
        {
          "data": {
            "text/plain": [
              "array(['Intel Core i5', 'Intel Core i7', 'AMD A9-Series 9420',\n",
              "       'Intel Core i3', 'Intel Core M', 'AMD E-Series E2-9000e',\n",
              "       'Intel Atom x5-Z8300', 'AMD E-Series E2-6110',\n",
              "       'AMD A6-Series 9220', 'Intel Celeron Dual', 'AMD Ryzen 1700',\n",
              "       'Intel Pentium Quad', 'AMD FX 9830P', 'AMD E-Series 6110',\n",
              "       'Intel Xeon E3-1505M', 'AMD E-Series 9000e',\n",
              "       'AMD A10-Series A10-9620P', 'AMD A6-Series A6-9220',\n",
              "       'AMD A10-Series 9600P', 'AMD A8-Series 7410',\n",
              "       'AMD A12-Series 9720P', 'Intel Celeron Quad', 'AMD Ryzen 1600',\n",
              "       'Intel Atom x5-Z8350', 'AMD A10-Series 9620P', 'AMD E-Series 7110',\n",
              "       'AMD A9-Series A9-9420', 'Intel Xeon E3-1535M',\n",
              "       'AMD E-Series E2-9000', 'AMD A6-Series 7310', 'Intel Atom Z8350',\n",
              "       'Intel Pentium Dual', 'AMD A12-Series 9700P', 'AMD A4-Series 7210',\n",
              "       'AMD FX 8800P', 'Intel Atom X5-Z8350', 'Intel Atom x5-Z8550',\n",
              "       'Samsung Cortex A72&A53', 'AMD E-Series 9000',\n",
              "       'AMD A9-Series 9410'], dtype=object)"
            ]
          },
          "execution_count": 164,
          "metadata": {},
          "output_type": "execute_result"
        }
      ],
      "source": [
        "df['CPU Name'].unique()"
      ]
    },
    {
      "cell_type": "code",
      "execution_count": 165,
      "metadata": {
        "id": "LCRZNDzricC6"
      },
      "outputs": [],
      "source": [
        "def fetching_processor(text):\n",
        "  if text== 'Intel Core i5' or text == 'Intel Core i7' or text == 'Intel Core i3':\n",
        "    return text\n",
        "  else:\n",
        "    if 'Intel' in text:\n",
        "      return 'Other Intel Processor'\n",
        "    else:\n",
        "      return 'AMD Processor'"
      ]
    },
    {
      "cell_type": "code",
      "execution_count": 166,
      "metadata": {
        "id": "2DMOqWxBjYqg"
      },
      "outputs": [],
      "source": [
        "df['CPU Brand'] = df['CPU Name'].apply(fetching_processor)"
      ]
    },
    {
      "cell_type": "code",
      "execution_count": 167,
      "metadata": {
        "colab": {
          "base_uri": "https://localhost:8080/",
          "height": 0
        },
        "id": "AxUrrSZJjhAb",
        "outputId": "a1711343-78ca-4792-f4f5-ecfe35527ec7"
      },
      "outputs": [
        {
          "data": {
            "text/html": [
              "<div>\n",
              "<style scoped>\n",
              "    .dataframe tbody tr th:only-of-type {\n",
              "        vertical-align: middle;\n",
              "    }\n",
              "\n",
              "    .dataframe tbody tr th {\n",
              "        vertical-align: top;\n",
              "    }\n",
              "\n",
              "    .dataframe thead th {\n",
              "        text-align: right;\n",
              "    }\n",
              "</style>\n",
              "<table border=\"1\" class=\"dataframe\">\n",
              "  <thead>\n",
              "    <tr style=\"text-align: right;\">\n",
              "      <th></th>\n",
              "      <th>Company</th>\n",
              "      <th>TypeName</th>\n",
              "      <th>Cpu</th>\n",
              "      <th>Ram</th>\n",
              "      <th>Memory</th>\n",
              "      <th>Gpu</th>\n",
              "      <th>OpSys</th>\n",
              "      <th>Weight</th>\n",
              "      <th>Price</th>\n",
              "      <th>Touchscreen</th>\n",
              "      <th>Ips</th>\n",
              "      <th>PPI</th>\n",
              "      <th>CPU Name</th>\n",
              "      <th>CPU Brand</th>\n",
              "    </tr>\n",
              "  </thead>\n",
              "  <tbody>\n",
              "    <tr>\n",
              "      <th>0</th>\n",
              "      <td>Apple</td>\n",
              "      <td>Ultrabook</td>\n",
              "      <td>Intel Core i5 2.3GHz</td>\n",
              "      <td>8</td>\n",
              "      <td>128GB SSD</td>\n",
              "      <td>Intel Iris Plus Graphics 640</td>\n",
              "      <td>macOS</td>\n",
              "      <td>1.37</td>\n",
              "      <td>71378.6832</td>\n",
              "      <td>0</td>\n",
              "      <td>1</td>\n",
              "      <td>226.983005</td>\n",
              "      <td>Intel Core i5</td>\n",
              "      <td>Intel Core i5</td>\n",
              "    </tr>\n",
              "    <tr>\n",
              "      <th>1</th>\n",
              "      <td>Apple</td>\n",
              "      <td>Ultrabook</td>\n",
              "      <td>Intel Core i5 1.8GHz</td>\n",
              "      <td>8</td>\n",
              "      <td>128GB Flash Storage</td>\n",
              "      <td>Intel HD Graphics 6000</td>\n",
              "      <td>macOS</td>\n",
              "      <td>1.34</td>\n",
              "      <td>47895.5232</td>\n",
              "      <td>0</td>\n",
              "      <td>0</td>\n",
              "      <td>127.677940</td>\n",
              "      <td>Intel Core i5</td>\n",
              "      <td>Intel Core i5</td>\n",
              "    </tr>\n",
              "  </tbody>\n",
              "</table>\n",
              "</div>"
            ],
            "text/plain": [
              "  Company   TypeName                   Cpu  Ram               Memory  \\\n",
              "0   Apple  Ultrabook  Intel Core i5 2.3GHz    8            128GB SSD   \n",
              "1   Apple  Ultrabook  Intel Core i5 1.8GHz    8  128GB Flash Storage   \n",
              "\n",
              "                            Gpu  OpSys  Weight       Price  Touchscreen  Ips  \\\n",
              "0  Intel Iris Plus Graphics 640  macOS    1.37  71378.6832            0    1   \n",
              "1        Intel HD Graphics 6000  macOS    1.34  47895.5232            0    0   \n",
              "\n",
              "          PPI       CPU Name      CPU Brand  \n",
              "0  226.983005  Intel Core i5  Intel Core i5  \n",
              "1  127.677940  Intel Core i5  Intel Core i5  "
            ]
          },
          "execution_count": 167,
          "metadata": {},
          "output_type": "execute_result"
        }
      ],
      "source": [
        "df.head(2)"
      ]
    },
    {
      "cell_type": "code",
      "execution_count": 168,
      "metadata": {
        "colab": {
          "base_uri": "https://localhost:8080/",
          "height": 0
        },
        "id": "B9pBkYW0jjI2",
        "outputId": "ac02c6d0-a726-42a2-9962-012e35a66fa8"
      },
      "outputs": [
        {
          "data": {
            "text/plain": [
              "<Axes: xlabel='CPU Brand'>"
            ]
          },
          "execution_count": 168,
          "metadata": {},
          "output_type": "execute_result"
        },
        {
          "data": {
            "image/png": "[encoded data removed]",
            "text/plain": [
              "<Figure size 400x300 with 1 Axes>"
            ]
          },
          "metadata": {},
          "output_type": "display_data"
        }
      ],
      "source": [
        "df['CPU Brand'].value_counts().plot(kind='bar', figsize=(4,3))"
      ]
    },
    {
      "cell_type": "code",
      "execution_count": 169,
      "metadata": {
        "colab": {
          "base_uri": "https://localhost:8080/",
          "height": 0
        },
        "id": "1nrLbEIGjqtu",
        "outputId": "90044de0-a23c-45ad-86f1-5d33f9a3fb04"
      },
      "outputs": [
        {
          "data": {
            "image/png": "[encoded data removed]",
            "text/plain": [
              "<Figure size 400x300 with 1 Axes>"
            ]
          },
          "metadata": {},
          "output_type": "display_data"
        }
      ],
      "source": [
        "plt.figure(figsize=(4,3))\n",
        "sns.barplot(x=df['CPU Brand'], y=df['PPI'])\n",
        "plt.xticks(rotation=90)\n",
        "plt.show()"
      ]
    },
    {
      "cell_type": "markdown",
      "metadata": {},
      "source": [
        "Cpu type is cleaned further to CPU Brands of 5types. Intel Core i7 is costlier and is also in high demand."
      ]
    },
    {
      "cell_type": "code",
      "execution_count": 170,
      "metadata": {
        "colab": {
          "base_uri": "https://localhost:8080/",
          "height": 0
        },
        "id": "6CdM0XENuKaQ",
        "outputId": "cf289b4a-73a8-42bc-db09-07153b978589"
      },
      "outputs": [
        {
          "data": {
            "text/html": [
              "<div>\n",
              "<style scoped>\n",
              "    .dataframe tbody tr th:only-of-type {\n",
              "        vertical-align: middle;\n",
              "    }\n",
              "\n",
              "    .dataframe tbody tr th {\n",
              "        vertical-align: top;\n",
              "    }\n",
              "\n",
              "    .dataframe thead th {\n",
              "        text-align: right;\n",
              "    }\n",
              "</style>\n",
              "<table border=\"1\" class=\"dataframe\">\n",
              "  <thead>\n",
              "    <tr style=\"text-align: right;\">\n",
              "      <th></th>\n",
              "      <th>Company</th>\n",
              "      <th>TypeName</th>\n",
              "      <th>Ram</th>\n",
              "      <th>Memory</th>\n",
              "      <th>Gpu</th>\n",
              "      <th>OpSys</th>\n",
              "      <th>Weight</th>\n",
              "      <th>Price</th>\n",
              "      <th>Touchscreen</th>\n",
              "      <th>Ips</th>\n",
              "      <th>PPI</th>\n",
              "      <th>CPU Brand</th>\n",
              "    </tr>\n",
              "  </thead>\n",
              "  <tbody>\n",
              "    <tr>\n",
              "      <th>0</th>\n",
              "      <td>Apple</td>\n",
              "      <td>Ultrabook</td>\n",
              "      <td>8</td>\n",
              "      <td>128GB SSD</td>\n",
              "      <td>Intel Iris Plus Graphics 640</td>\n",
              "      <td>macOS</td>\n",
              "      <td>1.37</td>\n",
              "      <td>71378.6832</td>\n",
              "      <td>0</td>\n",
              "      <td>1</td>\n",
              "      <td>226.983005</td>\n",
              "      <td>Intel Core i5</td>\n",
              "    </tr>\n",
              "    <tr>\n",
              "      <th>1</th>\n",
              "      <td>Apple</td>\n",
              "      <td>Ultrabook</td>\n",
              "      <td>8</td>\n",
              "      <td>128GB Flash Storage</td>\n",
              "      <td>Intel HD Graphics 6000</td>\n",
              "      <td>macOS</td>\n",
              "      <td>1.34</td>\n",
              "      <td>47895.5232</td>\n",
              "      <td>0</td>\n",
              "      <td>0</td>\n",
              "      <td>127.677940</td>\n",
              "      <td>Intel Core i5</td>\n",
              "    </tr>\n",
              "  </tbody>\n",
              "</table>\n",
              "</div>"
            ],
            "text/plain": [
              "  Company   TypeName  Ram               Memory                           Gpu  \\\n",
              "0   Apple  Ultrabook    8            128GB SSD  Intel Iris Plus Graphics 640   \n",
              "1   Apple  Ultrabook    8  128GB Flash Storage        Intel HD Graphics 6000   \n",
              "\n",
              "   OpSys  Weight       Price  Touchscreen  Ips         PPI      CPU Brand  \n",
              "0  macOS    1.37  71378.6832            0    1  226.983005  Intel Core i5  \n",
              "1  macOS    1.34  47895.5232            0    0  127.677940  Intel Core i5  "
            ]
          },
          "execution_count": 170,
          "metadata": {},
          "output_type": "execute_result"
        }
      ],
      "source": [
        "df.drop(columns=['Cpu','CPU Name'],inplace=True)\n",
        "df.head(2)"
      ]
    },
    {
      "cell_type": "markdown",
      "metadata": {
        "id": "YPV7KNg2uUU6"
      },
      "source": [
        "### 8. RAM"
      ]
    },
    {
      "cell_type": "code",
      "execution_count": 171,
      "metadata": {
        "colab": {
          "base_uri": "https://localhost:8080/",
          "height": 0
        },
        "id": "fjJGtCenuQEr",
        "outputId": "f7de734b-022f-40e2-f573-70354ba43bb6"
      },
      "outputs": [
        {
          "data": {
            "text/plain": [
              "<Axes: xlabel='Ram'>"
            ]
          },
          "execution_count": 171,
          "metadata": {},
          "output_type": "execute_result"
        },
        {
          "data": {
            "image/png": "[encoded data removed]",
            "text/plain": [
              "<Figure size 400x300 with 1 Axes>"
            ]
          },
          "metadata": {},
          "output_type": "display_data"
        }
      ],
      "source": [
        "df['Ram'].value_counts().plot(kind='bar', figsize=(4,3))"
      ]
    },
    {
      "cell_type": "code",
      "execution_count": 172,
      "metadata": {
        "colab": {
          "base_uri": "https://localhost:8080/",
          "height": 0
        },
        "id": "YyV1pci4uZWY",
        "outputId": "86ee0108-5fca-4268-ffda-043fcc44d3b4"
      },
      "outputs": [
        {
          "data": {
            "image/png": "[encoded data removed]",
            "text/plain": [
              "<Figure size 400x300 with 1 Axes>"
            ]
          },
          "metadata": {},
          "output_type": "display_data"
        }
      ],
      "source": [
        "plt.figure(figsize=(4,3))\n",
        "sns.barplot(x=df['Ram'],y=df['Price'])\n",
        "plt.xticks(rotation='vertical')\n",
        "plt.show()"
      ]
    },
    {
      "cell_type": "markdown",
      "metadata": {},
      "source": [
        "Price of RAM increases with increase in size but 64GB RAM is lesser price than 32GB RAM "
      ]
    },
    {
      "cell_type": "markdown",
      "metadata": {
        "id": "ZMm7A-Dqufh3"
      },
      "source": [
        "### 9. Memory"
      ]
    },
    {
      "cell_type": "code",
      "execution_count": 173,
      "metadata": {
        "colab": {
          "base_uri": "https://localhost:8080/"
        },
        "id": "qC3AqiH8ueaz",
        "outputId": "1f1b07d5-cfc7-470a-a06e-5a7689eba2fc"
      },
      "outputs": [
        {
          "data": {
            "text/plain": [
              "array(['128GB SSD', '128GB Flash Storage', '256GB SSD', '512GB SSD',\n",
              "       '500GB HDD', '256GB Flash Storage', '1TB HDD',\n",
              "       '128GB SSD +  1TB HDD', '256GB SSD +  256GB SSD',\n",
              "       '64GB Flash Storage', '32GB Flash Storage', '256GB SSD +  1TB HDD',\n",
              "       '256GB SSD +  2TB HDD', '32GB SSD', '2TB HDD', '64GB SSD',\n",
              "       '1.0TB Hybrid', '512GB SSD +  1TB HDD', '1TB SSD',\n",
              "       '256GB SSD +  500GB HDD', '128GB SSD +  2TB HDD',\n",
              "       '512GB SSD +  512GB SSD', '16GB SSD', '16GB Flash Storage',\n",
              "       '512GB SSD +  256GB SSD', '512GB SSD +  2TB HDD',\n",
              "       '64GB Flash Storage +  1TB HDD', '180GB SSD', '1TB HDD +  1TB HDD',\n",
              "       '32GB HDD', '1TB SSD +  1TB HDD', '512GB Flash Storage',\n",
              "       '128GB HDD', '240GB SSD', '8GB SSD', '508GB Hybrid', '1.0TB HDD',\n",
              "       '512GB SSD +  1.0TB Hybrid', '256GB SSD +  1.0TB Hybrid'],\n",
              "      dtype=object)"
            ]
          },
          "execution_count": 173,
          "metadata": {},
          "output_type": "execute_result"
        }
      ],
      "source": [
        "df['Memory'].unique()"
      ]
    },
    {
      "cell_type": "code",
      "execution_count": 174,
      "metadata": {
        "id": "fTMAbj8t3gUg"
      },
      "outputs": [],
      "source": [
        "\n",
        "df['Memory'] = df['Memory'].astype(str).replace('\\.0', '', regex=True) #replace 1.0 with 1\n",
        "df[\"Memory\"] = df[\"Memory\"].str.replace('GB', '') #remove GD\n",
        "df[\"Memory\"] = df[\"Memory\"].str.replace('TB', '000') #remove TB\n",
        "temp = df[\"Memory\"].str.split(\"+\", n = 1, expand = True) #split Memory into columns on first occurance of '+'\n",
        "\n",
        "df[\"first\"]= temp[0]\n",
        "df[\"first\"]=df[\"first\"].str.strip() #removing space trails\n",
        "\n",
        "df[\"second\"]= temp[1]"
      ]
    },
    {
      "cell_type": "code",
      "execution_count": 175,
      "metadata": {
        "id": "lZATF7q-3tp8"
      },
      "outputs": [],
      "source": [
        "df[\"Layer1HDD\"] = df[\"first\"].apply(lambda x: 1 if \"HDD\" in x else 0)  #1 if HDD else 0 from 1st column of Memory splitted\n",
        "df[\"Layer1SSD\"] = df[\"first\"].apply(lambda x: 1 if \"SSD\" in x else 0)  #1 if SSD else 0 from 1st column of Memory splitted\n",
        "df[\"Layer1Hybrid\"] = df[\"first\"].apply(lambda x: 1 if \"Hybrid\" in x else 0) ##1 if Hybrid else 0 from 1st column of Memory splitted\n",
        "df[\"Layer1Flash_Storage\"] = df[\"first\"].apply(lambda x: 1 if \"Flash Storage\" in x else 0) #1 if Flashstorage else 0 from 1st column of Memory splitted\n",
        "\n",
        "df[\"second\"].fillna(\"0\", inplace = True)\n",
        "df[\"Layer2HDD\"] = df[\"second\"].apply(lambda x: 1 if \"HDD\" in x else 0)\n",
        "df[\"Layer2SSD\"] = df[\"second\"].apply(lambda x: 1 if \"SSD\" in x else 0)\n",
        "df[\"Layer2Hybrid\"] = df[\"second\"].apply(lambda x: 1 if \"Hybrid\" in x else 0)\n",
        "df[\"Layer2Flash_Storage\"] = df[\"second\"].apply(lambda x: 1 if \"Flash Storage\" in x else 0)\n"
      ]
    },
    {
      "cell_type": "code",
      "execution_count": 176,
      "metadata": {
        "id": "26E17rt75EQG"
      },
      "outputs": [],
      "source": [
        "#remove everything other than digits\n",
        "df['first'] = df['first'].apply(lambda x: ''.join(filter(str.isdigit, x)))\n",
        "df['second'] = df['second'].apply(lambda x: ''.join(filter(str.isdigit, x)))"
      ]
    },
    {
      "cell_type": "code",
      "execution_count": 177,
      "metadata": {
        "id": "-5emmaNL34Tf"
      },
      "outputs": [],
      "source": [
        "# 1 or 0 * value in first column + 1 or 0 * value in second column\n",
        "# Hence values of HDD, SSD, Hybrid and FlashStorage segreated into different columns from memory column\n",
        "df[\"HDD\"]=(df[\"first\"]*df[\"Layer1HDD\"]+df[\"second\"]*df[\"Layer2HDD\"])\n",
        "df[\"SSD\"]=(df[\"first\"]*df[\"Layer1SSD\"]+df[\"second\"]*df[\"Layer2SSD\"])\n",
        "df[\"Hybrid\"]=(df[\"first\"]*df[\"Layer1Hybrid\"]+df[\"second\"]*df[\"Layer2Hybrid\"])\n",
        "df[\"Flash_Storage\"]=(df[\"first\"]*df[\"Layer1Flash_Storage\"]+df[\"second\"]*df[\"Layer2Flash_Storage\"])"
      ]
    },
    {
      "cell_type": "code",
      "execution_count": 178,
      "metadata": {
        "colab": {
          "base_uri": "https://localhost:8080/",
          "height": 0
        },
        "id": "jUCKxDtIzn87",
        "outputId": "42da5776-acb2-4f23-8b8b-fe6b285c7ba2"
      },
      "outputs": [
        {
          "data": {
            "text/html": [
              "<div>\n",
              "<style scoped>\n",
              "    .dataframe tbody tr th:only-of-type {\n",
              "        vertical-align: middle;\n",
              "    }\n",
              "\n",
              "    .dataframe tbody tr th {\n",
              "        vertical-align: top;\n",
              "    }\n",
              "\n",
              "    .dataframe thead th {\n",
              "        text-align: right;\n",
              "    }\n",
              "</style>\n",
              "<table border=\"1\" class=\"dataframe\">\n",
              "  <thead>\n",
              "    <tr style=\"text-align: right;\">\n",
              "      <th></th>\n",
              "      <th>Company</th>\n",
              "      <th>TypeName</th>\n",
              "      <th>Ram</th>\n",
              "      <th>Gpu</th>\n",
              "      <th>OpSys</th>\n",
              "      <th>Weight</th>\n",
              "      <th>Price</th>\n",
              "      <th>Touchscreen</th>\n",
              "      <th>Ips</th>\n",
              "      <th>PPI</th>\n",
              "      <th>CPU Brand</th>\n",
              "      <th>HDD</th>\n",
              "      <th>SSD</th>\n",
              "      <th>Hybrid</th>\n",
              "      <th>Flash_Storage</th>\n",
              "    </tr>\n",
              "  </thead>\n",
              "  <tbody>\n",
              "    <tr>\n",
              "      <th>0</th>\n",
              "      <td>Apple</td>\n",
              "      <td>Ultrabook</td>\n",
              "      <td>8</td>\n",
              "      <td>Intel Iris Plus Graphics 640</td>\n",
              "      <td>macOS</td>\n",
              "      <td>1.37</td>\n",
              "      <td>71378.6832</td>\n",
              "      <td>0</td>\n",
              "      <td>1</td>\n",
              "      <td>226.983005</td>\n",
              "      <td>Intel Core i5</td>\n",
              "      <td></td>\n",
              "      <td>128</td>\n",
              "      <td></td>\n",
              "      <td></td>\n",
              "    </tr>\n",
              "    <tr>\n",
              "      <th>1</th>\n",
              "      <td>Apple</td>\n",
              "      <td>Ultrabook</td>\n",
              "      <td>8</td>\n",
              "      <td>Intel HD Graphics 6000</td>\n",
              "      <td>macOS</td>\n",
              "      <td>1.34</td>\n",
              "      <td>47895.5232</td>\n",
              "      <td>0</td>\n",
              "      <td>0</td>\n",
              "      <td>127.677940</td>\n",
              "      <td>Intel Core i5</td>\n",
              "      <td></td>\n",
              "      <td></td>\n",
              "      <td></td>\n",
              "      <td>128</td>\n",
              "    </tr>\n",
              "  </tbody>\n",
              "</table>\n",
              "</div>"
            ],
            "text/plain": [
              "  Company   TypeName  Ram                           Gpu  OpSys  Weight  \\\n",
              "0   Apple  Ultrabook    8  Intel Iris Plus Graphics 640  macOS    1.37   \n",
              "1   Apple  Ultrabook    8        Intel HD Graphics 6000  macOS    1.34   \n",
              "\n",
              "        Price  Touchscreen  Ips         PPI      CPU Brand HDD  SSD Hybrid  \\\n",
              "0  71378.6832            0    1  226.983005  Intel Core i5      128          \n",
              "1  47895.5232            0    0  127.677940  Intel Core i5                   \n",
              "\n",
              "  Flash_Storage  \n",
              "0                \n",
              "1           128  "
            ]
          },
          "execution_count": 178,
          "metadata": {},
          "output_type": "execute_result"
        }
      ],
      "source": [
        "df.drop(columns=['first', 'second', 'Layer1HDD', 'Layer1SSD', 'Layer1Hybrid',\n",
        "       'Layer1Flash_Storage', 'Layer2HDD', 'Layer2SSD', 'Layer2Hybrid',\n",
        "       'Layer2Flash_Storage', 'Memory'],inplace=True)\n",
        "\n",
        "\n",
        "df.head(2)"
      ]
    },
    {
      "cell_type": "code",
      "execution_count": 179,
      "metadata": {},
      "outputs": [
        {
          "name": "stdout",
          "output_type": "stream",
          "text": [
            "['' '500' '1000' '2000' '10001000' '32' '128']\n",
            "['128' '' '256' '512' '256256' '32' '64' '1000' '512512' '16' '512256'\n",
            " '180' '240' '8']\n"
          ]
        }
      ],
      "source": [
        "print(df['HDD'].unique())\n",
        "print(df['SSD'].unique())"
      ]
    },
    {
      "cell_type": "code",
      "execution_count": 180,
      "metadata": {
        "id": "oaI_CFjf2W6p"
      },
      "outputs": [],
      "source": [
        "df['HDD'] = df['HDD'].replace('', '0').replace('10001000','1000')\n",
        "df['SSD'] = df['SSD'].replace('', '0').replace('512512','512').replace('256256','256').replace('512256','256')\n",
        "df['Hybrid'] = df['Hybrid'].replace('', '0')\n",
        "df['Flash_Storage'] = df['Flash_Storage'].replace('', '0')"
      ]
    },
    {
      "cell_type": "code",
      "execution_count": 181,
      "metadata": {
        "id": "Ce3RzxjY77dP"
      },
      "outputs": [],
      "source": [
        "df[\"HDD\"] = df[\"HDD\"].astype(int)\n",
        "df[\"SSD\"] = df[\"SSD\"].astype(int)\n",
        "df[\"Hybrid\"] = df[\"Hybrid\"].astype(int)\n",
        "df[\"Flash_Storage\"] = df[\"Flash_Storage\"].astype(int)"
      ]
    },
    {
      "cell_type": "markdown",
      "metadata": {},
      "source": [
        "Memory column is divided into HDD, SSD, Hybrid and Flash_Storage columns. "
      ]
    },
    {
      "cell_type": "markdown",
      "metadata": {
        "id": "cq1yaZyJ9mRy"
      },
      "source": [
        "### 10. GPU"
      ]
    },
    {
      "cell_type": "code",
      "execution_count": 182,
      "metadata": {
        "colab": {
          "base_uri": "https://localhost:8080/",
          "height": 0
        },
        "id": "i31McxDk8Oke",
        "outputId": "eaae8c9a-0bb3-42e8-e404-39a52e06687d"
      },
      "outputs": [
        {
          "name": "stdout",
          "output_type": "stream",
          "text": [
            "['Intel Iris Plus Graphics 640' 'Intel HD Graphics 6000'\n",
            " 'Intel HD Graphics 620' 'AMD Radeon Pro 455'\n",
            " 'Intel Iris Plus Graphics 650' 'AMD Radeon R5' 'Intel Iris Pro Graphics'\n",
            " 'Nvidia GeForce MX150' 'Intel UHD Graphics 620' 'Intel HD Graphics 520'\n",
            " 'AMD Radeon Pro 555' 'AMD Radeon R5 M430' 'Intel HD Graphics 615'\n",
            " 'AMD Radeon Pro 560' 'Nvidia GeForce 940MX' 'Nvidia GeForce GTX 1050'\n",
            " 'AMD Radeon R2' 'AMD Radeon 530' 'Nvidia GeForce 930MX'\n",
            " 'Intel HD Graphics' 'Intel HD Graphics 500' 'Nvidia GeForce 930MX '\n",
            " 'Nvidia GeForce GTX 1060' 'Nvidia GeForce 150MX'\n",
            " 'Intel Iris Graphics 540' 'AMD Radeon RX 580' 'Nvidia GeForce 920MX'\n",
            " 'AMD Radeon R4 Graphics' 'AMD Radeon 520' 'Nvidia GeForce GTX 1070'\n",
            " 'Nvidia GeForce GTX 1050 Ti' 'Intel HD Graphics 400'\n",
            " 'Nvidia GeForce MX130' 'AMD R4 Graphics' 'Nvidia GeForce GTX 940MX'\n",
            " 'AMD Radeon RX 560' 'Nvidia GeForce 920M' 'AMD Radeon R7 M445'\n",
            " 'AMD Radeon RX 550' 'Nvidia GeForce GTX 1050M' 'Intel HD Graphics 515'\n",
            " 'AMD Radeon R5 M420' 'Intel HD Graphics 505' 'Nvidia GTX 980 SLI'\n",
            " 'AMD R17M-M1-70' 'Nvidia GeForce GTX 1080' 'Nvidia Quadro M1200'\n",
            " 'Nvidia GeForce 920MX ' 'Nvidia GeForce GTX 950M' 'AMD FirePro W4190M '\n",
            " 'Nvidia GeForce GTX 980M' 'Intel Iris Graphics 550' 'Nvidia GeForce 930M'\n",
            " 'Intel HD Graphics 630' 'AMD Radeon R5 430' 'Nvidia GeForce GTX 940M'\n",
            " 'Intel HD Graphics 510' 'Intel HD Graphics 405' 'AMD Radeon RX 540'\n",
            " 'Nvidia GeForce GT 940MX' 'AMD FirePro W5130M' 'Nvidia Quadro M2200M'\n",
            " 'AMD Radeon R4' 'Nvidia Quadro M620' 'AMD Radeon R7 M460'\n",
            " 'Intel HD Graphics 530' 'Nvidia GeForce GTX 965M'\n",
            " 'Nvidia GeForce GTX1080' 'Nvidia GeForce GTX1050 Ti'\n",
            " 'Nvidia GeForce GTX 960M' 'AMD Radeon R2 Graphics' 'Nvidia Quadro M620M'\n",
            " 'Nvidia GeForce GTX 970M' 'Nvidia GeForce GTX 960<U+039C>'\n",
            " 'Intel Graphics 620' 'Nvidia GeForce GTX 960' 'AMD Radeon R5 520'\n",
            " 'AMD Radeon R7 M440' 'AMD Radeon R7' 'Nvidia Quadro M520M'\n",
            " 'Nvidia Quadro M2200' 'Nvidia Quadro M2000M' 'Intel HD Graphics 540'\n",
            " 'Nvidia Quadro M1000M' 'AMD Radeon 540' 'Nvidia GeForce GTX 1070M'\n",
            " 'Nvidia GeForce GTX1060' 'Intel HD Graphics 5300' 'AMD Radeon R5 M420X'\n",
            " 'AMD Radeon R7 Graphics' 'Nvidia GeForce 920' 'Nvidia GeForce 940M'\n",
            " 'Nvidia GeForce GTX 930MX' 'AMD Radeon R7 M465' 'AMD Radeon R3'\n",
            " 'Nvidia GeForce GTX 1050Ti' 'AMD Radeon R7 M365X' 'AMD Radeon R9 M385'\n",
            " 'Intel HD Graphics 620 ' 'Nvidia Quadro 3000M' 'Nvidia GeForce GTX 980 '\n",
            " 'AMD Radeon R5 M330' 'AMD FirePro W4190M' 'AMD FirePro W6150M'\n",
            " 'AMD Radeon R5 M315' 'Nvidia Quadro M500M' 'AMD Radeon R7 M360'\n",
            " 'Nvidia Quadro M3000M' 'Nvidia GeForce 960M' 'ARM Mali T860 MP4']\n"
          ]
        },
        {
          "data": {
            "text/html": [
              "<div>\n",
              "<style scoped>\n",
              "    .dataframe tbody tr th:only-of-type {\n",
              "        vertical-align: middle;\n",
              "    }\n",
              "\n",
              "    .dataframe tbody tr th {\n",
              "        vertical-align: top;\n",
              "    }\n",
              "\n",
              "    .dataframe thead th {\n",
              "        text-align: right;\n",
              "    }\n",
              "</style>\n",
              "<table border=\"1\" class=\"dataframe\">\n",
              "  <thead>\n",
              "    <tr style=\"text-align: right;\">\n",
              "      <th></th>\n",
              "      <th>Company</th>\n",
              "      <th>TypeName</th>\n",
              "      <th>Ram</th>\n",
              "      <th>Gpu</th>\n",
              "      <th>OpSys</th>\n",
              "      <th>Weight</th>\n",
              "      <th>Price</th>\n",
              "      <th>Touchscreen</th>\n",
              "      <th>Ips</th>\n",
              "      <th>PPI</th>\n",
              "      <th>CPU Brand</th>\n",
              "      <th>HDD</th>\n",
              "      <th>SSD</th>\n",
              "      <th>Hybrid</th>\n",
              "      <th>Flash_Storage</th>\n",
              "      <th>GPU Brand</th>\n",
              "    </tr>\n",
              "  </thead>\n",
              "  <tbody>\n",
              "    <tr>\n",
              "      <th>0</th>\n",
              "      <td>Apple</td>\n",
              "      <td>Ultrabook</td>\n",
              "      <td>8</td>\n",
              "      <td>Intel Iris Plus Graphics 640</td>\n",
              "      <td>macOS</td>\n",
              "      <td>1.37</td>\n",
              "      <td>71378.6832</td>\n",
              "      <td>0</td>\n",
              "      <td>1</td>\n",
              "      <td>226.983005</td>\n",
              "      <td>Intel Core i5</td>\n",
              "      <td>0</td>\n",
              "      <td>128</td>\n",
              "      <td>0</td>\n",
              "      <td>0</td>\n",
              "      <td>Intel</td>\n",
              "    </tr>\n",
              "    <tr>\n",
              "      <th>1</th>\n",
              "      <td>Apple</td>\n",
              "      <td>Ultrabook</td>\n",
              "      <td>8</td>\n",
              "      <td>Intel HD Graphics 6000</td>\n",
              "      <td>macOS</td>\n",
              "      <td>1.34</td>\n",
              "      <td>47895.5232</td>\n",
              "      <td>0</td>\n",
              "      <td>0</td>\n",
              "      <td>127.677940</td>\n",
              "      <td>Intel Core i5</td>\n",
              "      <td>0</td>\n",
              "      <td>0</td>\n",
              "      <td>0</td>\n",
              "      <td>128</td>\n",
              "      <td>Intel</td>\n",
              "    </tr>\n",
              "  </tbody>\n",
              "</table>\n",
              "</div>"
            ],
            "text/plain": [
              "  Company   TypeName  Ram                           Gpu  OpSys  Weight  \\\n",
              "0   Apple  Ultrabook    8  Intel Iris Plus Graphics 640  macOS    1.37   \n",
              "1   Apple  Ultrabook    8        Intel HD Graphics 6000  macOS    1.34   \n",
              "\n",
              "        Price  Touchscreen  Ips         PPI      CPU Brand  HDD  SSD  Hybrid  \\\n",
              "0  71378.6832            0    1  226.983005  Intel Core i5    0  128       0   \n",
              "1  47895.5232            0    0  127.677940  Intel Core i5    0    0       0   \n",
              "\n",
              "   Flash_Storage GPU Brand  \n",
              "0              0     Intel  \n",
              "1            128     Intel  "
            ]
          },
          "execution_count": 182,
          "metadata": {},
          "output_type": "execute_result"
        }
      ],
      "source": [
        "print(df['Gpu'].unique())\n",
        "df['GPU Brand'] = df['Gpu'].apply(lambda x: x.split()[0])\n",
        "df.head(2)"
      ]
    },
    {
      "cell_type": "code",
      "execution_count": 183,
      "metadata": {
        "colab": {
          "base_uri": "https://localhost:8080/"
        },
        "id": "kGaIUbFgCkfF",
        "outputId": "9959278b-79ef-4426-e866-3a1d16f45985"
      },
      "outputs": [
        {
          "data": {
            "text/plain": [
              "GPU Brand\n",
              "Intel     703\n",
              "Nvidia    393\n",
              "AMD       176\n",
              "ARM         1\n",
              "Name: count, dtype: int64"
            ]
          },
          "execution_count": 183,
          "metadata": {},
          "output_type": "execute_result"
        }
      ],
      "source": [
        "df['GPU Brand'].value_counts()"
      ]
    },
    {
      "cell_type": "code",
      "execution_count": 184,
      "metadata": {
        "colab": {
          "base_uri": "https://localhost:8080/",
          "height": 0
        },
        "id": "WfQNFGhPCtfF",
        "outputId": "e2ce09da-68a5-4fe7-8bb5-4cf7416caaf5"
      },
      "outputs": [
        {
          "data": {
            "text/html": [
              "<div>\n",
              "<style scoped>\n",
              "    .dataframe tbody tr th:only-of-type {\n",
              "        vertical-align: middle;\n",
              "    }\n",
              "\n",
              "    .dataframe tbody tr th {\n",
              "        vertical-align: top;\n",
              "    }\n",
              "\n",
              "    .dataframe thead th {\n",
              "        text-align: right;\n",
              "    }\n",
              "</style>\n",
              "<table border=\"1\" class=\"dataframe\">\n",
              "  <thead>\n",
              "    <tr style=\"text-align: right;\">\n",
              "      <th></th>\n",
              "      <th>Company</th>\n",
              "      <th>TypeName</th>\n",
              "      <th>Ram</th>\n",
              "      <th>OpSys</th>\n",
              "      <th>Weight</th>\n",
              "      <th>Price</th>\n",
              "      <th>Touchscreen</th>\n",
              "      <th>Ips</th>\n",
              "      <th>PPI</th>\n",
              "      <th>CPU Brand</th>\n",
              "      <th>HDD</th>\n",
              "      <th>SSD</th>\n",
              "      <th>Hybrid</th>\n",
              "      <th>Flash_Storage</th>\n",
              "      <th>GPU Brand</th>\n",
              "    </tr>\n",
              "  </thead>\n",
              "  <tbody>\n",
              "    <tr>\n",
              "      <th>0</th>\n",
              "      <td>Apple</td>\n",
              "      <td>Ultrabook</td>\n",
              "      <td>8</td>\n",
              "      <td>macOS</td>\n",
              "      <td>1.37</td>\n",
              "      <td>71378.6832</td>\n",
              "      <td>0</td>\n",
              "      <td>1</td>\n",
              "      <td>226.983005</td>\n",
              "      <td>Intel Core i5</td>\n",
              "      <td>0</td>\n",
              "      <td>128</td>\n",
              "      <td>0</td>\n",
              "      <td>0</td>\n",
              "      <td>Intel</td>\n",
              "    </tr>\n",
              "  </tbody>\n",
              "</table>\n",
              "</div>"
            ],
            "text/plain": [
              "  Company   TypeName  Ram  OpSys  Weight       Price  Touchscreen  Ips  \\\n",
              "0   Apple  Ultrabook    8  macOS    1.37  71378.6832            0    1   \n",
              "\n",
              "          PPI      CPU Brand  HDD  SSD  Hybrid  Flash_Storage GPU Brand  \n",
              "0  226.983005  Intel Core i5    0  128       0              0     Intel  "
            ]
          },
          "execution_count": 184,
          "metadata": {},
          "output_type": "execute_result"
        }
      ],
      "source": [
        "df = df[df['GPU Brand']!= 'ARM']\n",
        "df.drop(columns=['Gpu'], inplace = True)\n",
        "df.head(1)"
      ]
    },
    {
      "cell_type": "code",
      "execution_count": 185,
      "metadata": {
        "colab": {
          "base_uri": "https://localhost:8080/",
          "height": 0
        },
        "id": "KTYv2Ft7DCMq",
        "outputId": "894d9f0c-fc48-4133-8a84-b772879e9466"
      },
      "outputs": [
        {
          "data": {
            "image/png": "[encoded data removed]",
            "text/plain": [
              "<Figure size 400x300 with 1 Axes>"
            ]
          },
          "metadata": {},
          "output_type": "display_data"
        }
      ],
      "source": [
        "plt.figure(figsize=(4,3))\n",
        "sns.barplot(x=df['GPU Brand'],y=df['Price'])\n",
        "plt.xticks(rotation=90)\n",
        "plt.show()"
      ]
    },
    {
      "cell_type": "markdown",
      "metadata": {
        "id": "2VxtUhALDiLN"
      },
      "source": [
        "### 11. OpSys"
      ]
    },
    {
      "cell_type": "code",
      "execution_count": 186,
      "metadata": {
        "colab": {
          "base_uri": "https://localhost:8080/",
          "height": 0
        },
        "id": "kUKpmvWDDL1y",
        "outputId": "3385072b-217d-43dd-e14b-b00f86e598ee"
      },
      "outputs": [
        {
          "data": {
            "image/png": "[encoded data removed]",
            "text/plain": [
              "<Figure size 400x300 with 1 Axes>"
            ]
          },
          "metadata": {},
          "output_type": "display_data"
        }
      ],
      "source": [
        "plt.figure(figsize=(4,3))\n",
        "sns.barplot(x=df['OpSys'],y=df['Price'])\n",
        "plt.xticks(rotation=90)\n",
        "plt.show()"
      ]
    },
    {
      "cell_type": "code",
      "execution_count": 187,
      "metadata": {
        "colab": {
          "base_uri": "https://localhost:8080/"
        },
        "id": "cPFC946NIYNm",
        "outputId": "b8f30b2e-611d-4a62-8411-1a4172e36065"
      },
      "outputs": [
        {
          "data": {
            "text/plain": [
              "array(['macOS', 'No OS', 'Windows 10', 'Mac OS X', 'Linux',\n",
              "       'Windows 10 S', 'Chrome OS', 'Windows 7', 'Android'], dtype=object)"
            ]
          },
          "execution_count": 187,
          "metadata": {},
          "output_type": "execute_result"
        }
      ],
      "source": [
        "df['OpSys'].unique()"
      ]
    },
    {
      "cell_type": "code",
      "execution_count": 188,
      "metadata": {
        "colab": {
          "base_uri": "https://localhost:8080/"
        },
        "id": "PTnqvFmjDyWm",
        "outputId": "904944f6-e92a-4a42-e1d5-530c65461e01"
      },
      "outputs": [
        {
          "data": {
            "text/plain": [
              "array(['Mac', 'Others/ No OS/ Linux', 'Windows'], dtype=object)"
            ]
          },
          "execution_count": 188,
          "metadata": {},
          "output_type": "execute_result"
        }
      ],
      "source": [
        "def os(text):\n",
        "  if text == 'Windows 10' or text == 'Windows 10 S' or text == 'Windows 7':\n",
        "    return 'Windows'\n",
        "  elif text == 'macOS' or text =='Mac OS X':\n",
        "    return 'Mac'\n",
        "  else:\n",
        "    return 'Others/ No OS/ Linux'\n",
        "\n",
        "df['OS'] = df['OpSys'].apply(os)\n",
        "df['OS'].unique()"
      ]
    },
    {
      "cell_type": "code",
      "execution_count": 189,
      "metadata": {
        "colab": {
          "base_uri": "https://localhost:8080/",
          "height": 0
        },
        "id": "mIPBdDe4HUGB",
        "outputId": "dcbf82ac-f2c8-4037-a948-c696fc059765"
      },
      "outputs": [
        {
          "data": {
            "text/html": [
              "<div>\n",
              "<style scoped>\n",
              "    .dataframe tbody tr th:only-of-type {\n",
              "        vertical-align: middle;\n",
              "    }\n",
              "\n",
              "    .dataframe tbody tr th {\n",
              "        vertical-align: top;\n",
              "    }\n",
              "\n",
              "    .dataframe thead th {\n",
              "        text-align: right;\n",
              "    }\n",
              "</style>\n",
              "<table border=\"1\" class=\"dataframe\">\n",
              "  <thead>\n",
              "    <tr style=\"text-align: right;\">\n",
              "      <th></th>\n",
              "      <th>Company</th>\n",
              "      <th>TypeName</th>\n",
              "      <th>Ram</th>\n",
              "      <th>Weight</th>\n",
              "      <th>Price</th>\n",
              "      <th>Touchscreen</th>\n",
              "      <th>Ips</th>\n",
              "      <th>PPI</th>\n",
              "      <th>CPU Brand</th>\n",
              "      <th>HDD</th>\n",
              "      <th>SSD</th>\n",
              "      <th>Hybrid</th>\n",
              "      <th>Flash_Storage</th>\n",
              "      <th>GPU Brand</th>\n",
              "      <th>OS</th>\n",
              "    </tr>\n",
              "  </thead>\n",
              "  <tbody>\n",
              "    <tr>\n",
              "      <th>0</th>\n",
              "      <td>Apple</td>\n",
              "      <td>Ultrabook</td>\n",
              "      <td>8</td>\n",
              "      <td>1.37</td>\n",
              "      <td>71378.6832</td>\n",
              "      <td>0</td>\n",
              "      <td>1</td>\n",
              "      <td>226.983005</td>\n",
              "      <td>Intel Core i5</td>\n",
              "      <td>0</td>\n",
              "      <td>128</td>\n",
              "      <td>0</td>\n",
              "      <td>0</td>\n",
              "      <td>Intel</td>\n",
              "      <td>Mac</td>\n",
              "    </tr>\n",
              "    <tr>\n",
              "      <th>1</th>\n",
              "      <td>Apple</td>\n",
              "      <td>Ultrabook</td>\n",
              "      <td>8</td>\n",
              "      <td>1.34</td>\n",
              "      <td>47895.5232</td>\n",
              "      <td>0</td>\n",
              "      <td>0</td>\n",
              "      <td>127.677940</td>\n",
              "      <td>Intel Core i5</td>\n",
              "      <td>0</td>\n",
              "      <td>0</td>\n",
              "      <td>0</td>\n",
              "      <td>128</td>\n",
              "      <td>Intel</td>\n",
              "      <td>Mac</td>\n",
              "    </tr>\n",
              "  </tbody>\n",
              "</table>\n",
              "</div>"
            ],
            "text/plain": [
              "  Company   TypeName  Ram  Weight       Price  Touchscreen  Ips         PPI  \\\n",
              "0   Apple  Ultrabook    8    1.37  71378.6832            0    1  226.983005   \n",
              "1   Apple  Ultrabook    8    1.34  47895.5232            0    0  127.677940   \n",
              "\n",
              "       CPU Brand  HDD  SSD  Hybrid  Flash_Storage GPU Brand   OS  \n",
              "0  Intel Core i5    0  128       0              0     Intel  Mac  \n",
              "1  Intel Core i5    0    0       0            128     Intel  Mac  "
            ]
          },
          "execution_count": 189,
          "metadata": {},
          "output_type": "execute_result"
        }
      ],
      "source": [
        "df.drop(columns=['OpSys'],inplace=True)\n",
        "df.head(2)"
      ]
    },
    {
      "cell_type": "code",
      "execution_count": 190,
      "metadata": {
        "colab": {
          "base_uri": "https://localhost:8080/",
          "height": 0
        },
        "id": "hxQEwtb3Eajw",
        "outputId": "24029bbd-0bac-45a2-abe3-b2fc22f5075f"
      },
      "outputs": [
        {
          "data": {
            "image/png": "[encoded data removed]",
            "text/plain": [
              "<Figure size 400x300 with 1 Axes>"
            ]
          },
          "metadata": {},
          "output_type": "display_data"
        }
      ],
      "source": [
        "plt.figure(figsize=(4,3))\n",
        "sns.barplot(x=df['OS'],y=df['Price'])\n",
        "plt.xticks(rotation=90)\n",
        "plt.show()"
      ]
    },
    {
      "cell_type": "markdown",
      "metadata": {
        "id": "z2LAePQgErsL"
      },
      "source": [
        "### 12. Weight"
      ]
    },
    {
      "cell_type": "code",
      "execution_count": 191,
      "metadata": {
        "colab": {
          "base_uri": "https://localhost:8080/",
          "height": 0
        },
        "id": "6jjEXx2AEo8l",
        "outputId": "efc91dce-2ef2-4491-dbb7-dd90200d7b21"
      },
      "outputs": [
        {
          "data": {
            "image/png": "[encoded data removed]",
            "text/plain": [
              "<Figure size 400x300 with 1 Axes>"
            ]
          },
          "metadata": {},
          "output_type": "display_data"
        }
      ],
      "source": [
        "plt.figure(figsize=(4,3))\n",
        "sns.distplot(df['Weight'])\n",
        "plt.show()"
      ]
    },
    {
      "cell_type": "code",
      "execution_count": 192,
      "metadata": {
        "colab": {
          "base_uri": "https://localhost:8080/",
          "height": 0
        },
        "id": "VO_kKoCGEwOT",
        "outputId": "73f0025e-4494-4520-aafe-a6f151f8076d"
      },
      "outputs": [
        {
          "data": {
            "image/png": "[encoded data removed]",
            "text/plain": [
              "<Figure size 500x300 with 1 Axes>"
            ]
          },
          "metadata": {},
          "output_type": "display_data"
        }
      ],
      "source": [
        "plt.figure(figsize=(5,3))\n",
        "sns.scatterplot(x=df['Weight'],y=df['Price'])\n",
        "plt.show()"
      ]
    },
    {
      "cell_type": "markdown",
      "metadata": {},
      "source": [
        "Price for Weights around 2 are in high demand and also pricey."
      ]
    },
    {
      "cell_type": "markdown",
      "metadata": {
        "id": "CCZ1N85nFb_4"
      },
      "source": [
        "### 13. Price"
      ]
    },
    {
      "cell_type": "code",
      "execution_count": 193,
      "metadata": {
        "colab": {
          "base_uri": "https://localhost:8080/",
          "height": 0
        },
        "id": "qDMOCfoAE9Jf",
        "outputId": "bf4ce05b-472b-41e8-cee2-f43681c465e2"
      },
      "outputs": [
        {
          "data": {
            "image/png": "[encoded data removed]",
            "text/plain": [
              "<Figure size 500x300 with 1 Axes>"
            ]
          },
          "metadata": {},
          "output_type": "display_data"
        }
      ],
      "source": [
        "plt.figure(figsize=(5,3))\n",
        "sns.distplot(np.log(df['Price']))\n",
        "plt.show()"
      ]
    },
    {
      "cell_type": "markdown",
      "metadata": {
        "id": "feQ_p4h8FnoV"
      },
      "source": [
        "### Correlation and Heatmap"
      ]
    },
    {
      "cell_type": "code",
      "execution_count": 194,
      "metadata": {
        "colab": {
          "base_uri": "https://localhost:8080/"
        },
        "id": "bf_6ihsDFSqC",
        "outputId": "fdf6d27d-845c-4f39-b7ce-fab6dd639ffa"
      },
      "outputs": [
        {
          "data": {
            "text/plain": [
              "Ram              0.685521\n",
              "Weight           0.175486\n",
              "Price            1.000000\n",
              "Touchscreen      0.190738\n",
              "Ips              0.255987\n",
              "PPI              0.470554\n",
              "HDD             -0.095064\n",
              "SSD              0.674199\n",
              "Hybrid           0.007794\n",
              "Flash_Storage   -0.037881\n",
              "Name: Price, dtype: float64"
            ]
          },
          "execution_count": 194,
          "metadata": {},
          "output_type": "execute_result"
        }
      ],
      "source": [
        "df.select_dtypes(include=['number']).corr()['Price']"
      ]
    },
    {
      "cell_type": "code",
      "execution_count": 195,
      "metadata": {
        "colab": {
          "base_uri": "https://localhost:8080/",
          "height": 0
        },
        "id": "FbejGadYF3HO",
        "outputId": "71d229ed-b516-4680-9d7b-98200e8eea04"
      },
      "outputs": [
        {
          "data": {
            "text/plain": [
              "<Axes: >"
            ]
          },
          "execution_count": 195,
          "metadata": {},
          "output_type": "execute_result"
        },
        {
          "data": {
            "image/png": "[encoded data removed]",
            "text/plain": [
              "<Figure size 640x480 with 2 Axes>"
            ]
          },
          "metadata": {},
          "output_type": "display_data"
        }
      ],
      "source": [
        "sns.heatmap(df.select_dtypes(include=['number']).corr())"
      ]
    },
    {
      "cell_type": "markdown",
      "metadata": {
        "id": "GCXKvgVT5Vcp"
      },
      "source": [
        "Observations:\n",
        "\n",
        "HDD, SSD, Hybrid, Flash_Storage:\n",
        "\n",
        "These features show no significant correlation with any other features or the target variable 'Price'.\n",
        "\n",
        "However, before dropping these columns it would be better to do a cross check with RandomForestRegressor to determine the important features"
      ]
    },
    {
      "cell_type": "markdown",
      "metadata": {
        "id": "TeVxlRHq-EkM"
      },
      "source": [
        "# Feature Selection"
      ]
    },
    {
      "cell_type": "markdown",
      "metadata": {
        "id": "kM6Rju0cCTk5"
      },
      "source": [
        "LabelEncoder is used to convert categorical to numerical values.Then RandomForestRegressor is applied to the whole dataset get the important features from it. Then insignificant features are dropped after comparing from the correlation matrix results from above and important features list from below."
      ]
    },
    {
      "cell_type": "code",
      "execution_count": 196,
      "metadata": {
        "colab": {
          "base_uri": "https://localhost:8080/"
        },
        "id": "bIzk01pKd147",
        "outputId": "a2f5cf92-b41c-4514-d32e-37f20ad1f230"
      },
      "outputs": [
        {
          "name": "stdout",
          "output_type": "stream",
          "text": [
            "          Feature  Importance\n",
            "2             Ram    0.558108\n",
            "3          Weight    0.134931\n",
            "6             PPI    0.071149\n",
            "1        TypeName    0.058393\n",
            "9             SSD    0.049056\n",
            "0         Company    0.045603\n",
            "7       CPU Brand    0.039384\n",
            "5             Ips    0.011133\n",
            "12      GPU Brand    0.010226\n",
            "8             HDD    0.008075\n",
            "13             OS    0.007236\n",
            "4     Touchscreen    0.005933\n",
            "11  Flash_Storage    0.000671\n",
            "10         Hybrid    0.000102\n"
          ]
        }
      ],
      "source": [
        "from sklearn.model_selection import train_test_split\n",
        "from sklearn.ensemble import RandomForestRegressor\n",
        "from sklearn.metrics import mean_squared_error\n",
        "from sklearn.preprocessing import LabelEncoder\n",
        "\n",
        "# Convert categorical variables into numerical using label encoding\n",
        "label_encoder = LabelEncoder()\n",
        "data = df.copy()\n",
        "for column in ['Company', 'TypeName', 'CPU Brand', 'GPU Brand', 'OS']:\n",
        "    data[column] = label_encoder.fit_transform(data[column])\n",
        "\n",
        "# Split data into features and target variable\n",
        "X = data.drop(columns=['Price'])\n",
        "y = data['Price']\n",
        "\n",
        "# Split data into training and testing sets\n",
        "X_train, X_test, y_train, y_test = train_test_split(X, y, test_size=0.2, random_state=42)\n",
        "\n",
        "# Train Random Forest Regressor\n",
        "rf_regressor = RandomForestRegressor()\n",
        "rf_regressor.fit(X_train, y_train)\n",
        "\n",
        "# Get feature importances\n",
        "feature_importances = rf_regressor.feature_importances_\n",
        "features = X.columns\n",
        "\n",
        "# Create dataframe to display feature importances\n",
        "feature_importance_df = pd.DataFrame({'Feature': features, 'Importance': feature_importances})\n",
        "feature_importance_df = feature_importance_df.sort_values(by='Importance', ascending=False)\n",
        "print(feature_importance_df)\n"
      ]
    },
    {
      "cell_type": "markdown",
      "metadata": {
        "id": "OcpaDBHlmrDX"
      },
      "source": [
        "It is safe to say that Flash_Storage and Hybrid are least significant on considering outputs from Correlation Matrix and Important features list from RandomForestRegressor.\n",
        "\n",
        "Hence dropping those columns."
      ]
    },
    {
      "cell_type": "code",
      "execution_count": 197,
      "metadata": {
        "colab": {
          "base_uri": "https://localhost:8080/",
          "height": 0
        },
        "id": "a-ubZqSOfa73",
        "outputId": "466fbf80-f5ee-4c6c-ac3f-9bd180103d66"
      },
      "outputs": [
        {
          "data": {
            "text/html": [
              "<div>\n",
              "<style scoped>\n",
              "    .dataframe tbody tr th:only-of-type {\n",
              "        vertical-align: middle;\n",
              "    }\n",
              "\n",
              "    .dataframe tbody tr th {\n",
              "        vertical-align: top;\n",
              "    }\n",
              "\n",
              "    .dataframe thead th {\n",
              "        text-align: right;\n",
              "    }\n",
              "</style>\n",
              "<table border=\"1\" class=\"dataframe\">\n",
              "  <thead>\n",
              "    <tr style=\"text-align: right;\">\n",
              "      <th></th>\n",
              "      <th>Company</th>\n",
              "      <th>TypeName</th>\n",
              "      <th>Ram</th>\n",
              "      <th>Weight</th>\n",
              "      <th>Price</th>\n",
              "      <th>Touchscreen</th>\n",
              "      <th>Ips</th>\n",
              "      <th>PPI</th>\n",
              "      <th>CPU Brand</th>\n",
              "      <th>HDD</th>\n",
              "      <th>SSD</th>\n",
              "      <th>GPU Brand</th>\n",
              "      <th>OS</th>\n",
              "    </tr>\n",
              "  </thead>\n",
              "  <tbody>\n",
              "    <tr>\n",
              "      <th>0</th>\n",
              "      <td>Apple</td>\n",
              "      <td>Ultrabook</td>\n",
              "      <td>8</td>\n",
              "      <td>1.37</td>\n",
              "      <td>71378.6832</td>\n",
              "      <td>0</td>\n",
              "      <td>1</td>\n",
              "      <td>226.983005</td>\n",
              "      <td>Intel Core i5</td>\n",
              "      <td>0</td>\n",
              "      <td>128</td>\n",
              "      <td>Intel</td>\n",
              "      <td>Mac</td>\n",
              "    </tr>\n",
              "    <tr>\n",
              "      <th>1</th>\n",
              "      <td>Apple</td>\n",
              "      <td>Ultrabook</td>\n",
              "      <td>8</td>\n",
              "      <td>1.34</td>\n",
              "      <td>47895.5232</td>\n",
              "      <td>0</td>\n",
              "      <td>0</td>\n",
              "      <td>127.677940</td>\n",
              "      <td>Intel Core i5</td>\n",
              "      <td>0</td>\n",
              "      <td>0</td>\n",
              "      <td>Intel</td>\n",
              "      <td>Mac</td>\n",
              "    </tr>\n",
              "  </tbody>\n",
              "</table>\n",
              "</div>"
            ],
            "text/plain": [
              "  Company   TypeName  Ram  Weight       Price  Touchscreen  Ips         PPI  \\\n",
              "0   Apple  Ultrabook    8    1.37  71378.6832            0    1  226.983005   \n",
              "1   Apple  Ultrabook    8    1.34  47895.5232            0    0  127.677940   \n",
              "\n",
              "       CPU Brand  HDD  SSD GPU Brand   OS  \n",
              "0  Intel Core i5    0  128     Intel  Mac  \n",
              "1  Intel Core i5    0    0     Intel  Mac  "
            ]
          },
          "execution_count": 197,
          "metadata": {},
          "output_type": "execute_result"
        }
      ],
      "source": [
        "df.drop(columns = ['Flash_Storage','Hybrid'], axis =1, inplace = True)\n",
        "df.head(2)"
      ]
    },
    {
      "cell_type": "markdown",
      "metadata": {
        "id": "9Pwc2VS2n7c8"
      },
      "source": [
        "# Model Development"
      ]
    },
    {
      "cell_type": "code",
      "execution_count": 198,
      "metadata": {
        "colab": {
          "base_uri": "https://localhost:8080/"
        },
        "id": "CH3tia3bnyxD",
        "outputId": "73b0b380-9e2e-425a-87f2-e66c52ca7bef"
      },
      "outputs": [
        {
          "name": "stdout",
          "output_type": "stream",
          "text": [
            "  Company   TypeName  Ram  Weight  Touchscreen  Ips         PPI  \\\n",
            "0   Apple  Ultrabook    8    1.37            0    1  226.983005   \n",
            "1   Apple  Ultrabook    8    1.34            0    0  127.677940   \n",
            "\n",
            "       CPU Brand  HDD  SSD GPU Brand   OS  \n",
            "0  Intel Core i5    0  128     Intel  Mac  \n",
            "1  Intel Core i5    0    0     Intel  Mac  \n",
            "\n",
            "\n",
            "0    11.175755\n",
            "1    10.776777\n",
            "Name: Price, dtype: float64\n"
          ]
        }
      ],
      "source": [
        "X = df.drop(columns=['Price'])\n",
        "y = np.log(df['Price'])\n",
        "\n",
        "print(X.head(2))\n",
        "print('\\n')\n",
        "print(y.head(2))"
      ]
    },
    {
      "cell_type": "code",
      "execution_count": 199,
      "metadata": {
        "colab": {
          "base_uri": "https://localhost:8080/",
          "height": 112
        },
        "id": "B_RWUzMxoo97",
        "outputId": "e655ff01-0c99-4ae8-ef0d-6c1bda720e81"
      },
      "outputs": [
        {
          "data": {
            "text/html": [
              "<div>\n",
              "<style scoped>\n",
              "    .dataframe tbody tr th:only-of-type {\n",
              "        vertical-align: middle;\n",
              "    }\n",
              "\n",
              "    .dataframe tbody tr th {\n",
              "        vertical-align: top;\n",
              "    }\n",
              "\n",
              "    .dataframe thead th {\n",
              "        text-align: right;\n",
              "    }\n",
              "</style>\n",
              "<table border=\"1\" class=\"dataframe\">\n",
              "  <thead>\n",
              "    <tr style=\"text-align: right;\">\n",
              "      <th></th>\n",
              "      <th>Company</th>\n",
              "      <th>TypeName</th>\n",
              "      <th>Ram</th>\n",
              "      <th>Weight</th>\n",
              "      <th>Price</th>\n",
              "      <th>Touchscreen</th>\n",
              "      <th>Ips</th>\n",
              "      <th>PPI</th>\n",
              "      <th>CPU Brand</th>\n",
              "      <th>HDD</th>\n",
              "      <th>SSD</th>\n",
              "      <th>GPU Brand</th>\n",
              "      <th>OS</th>\n",
              "    </tr>\n",
              "  </thead>\n",
              "  <tbody>\n",
              "    <tr>\n",
              "      <th>0</th>\n",
              "      <td>Apple</td>\n",
              "      <td>Ultrabook</td>\n",
              "      <td>8</td>\n",
              "      <td>1.37</td>\n",
              "      <td>71378.6832</td>\n",
              "      <td>0</td>\n",
              "      <td>1</td>\n",
              "      <td>226.983005</td>\n",
              "      <td>Intel Core i5</td>\n",
              "      <td>0</td>\n",
              "      <td>128</td>\n",
              "      <td>Intel</td>\n",
              "      <td>Mac</td>\n",
              "    </tr>\n",
              "    <tr>\n",
              "      <th>1</th>\n",
              "      <td>Apple</td>\n",
              "      <td>Ultrabook</td>\n",
              "      <td>8</td>\n",
              "      <td>1.34</td>\n",
              "      <td>47895.5232</td>\n",
              "      <td>0</td>\n",
              "      <td>0</td>\n",
              "      <td>127.677940</td>\n",
              "      <td>Intel Core i5</td>\n",
              "      <td>0</td>\n",
              "      <td>0</td>\n",
              "      <td>Intel</td>\n",
              "      <td>Mac</td>\n",
              "    </tr>\n",
              "  </tbody>\n",
              "</table>\n",
              "</div>"
            ],
            "text/plain": [
              "  Company   TypeName  Ram  Weight       Price  Touchscreen  Ips         PPI  \\\n",
              "0   Apple  Ultrabook    8    1.37  71378.6832            0    1  226.983005   \n",
              "1   Apple  Ultrabook    8    1.34  47895.5232            0    0  127.677940   \n",
              "\n",
              "       CPU Brand  HDD  SSD GPU Brand   OS  \n",
              "0  Intel Core i5    0  128     Intel  Mac  \n",
              "1  Intel Core i5    0    0     Intel  Mac  "
            ]
          },
          "execution_count": 199,
          "metadata": {},
          "output_type": "execute_result"
        }
      ],
      "source": [
        "df.head(2)"
      ]
    },
    {
      "cell_type": "code",
      "execution_count": 200,
      "metadata": {
        "id": "_LfdpL1Oox5s"
      },
      "outputs": [],
      "source": [
        "from sklearn.model_selection import train_test_split\n",
        "X_train, X_test, y_train, y_test = train_test_split(X,y, test_size = 0.15, random_state=42)"
      ]
    },
    {
      "cell_type": "code",
      "execution_count": 201,
      "metadata": {
        "id": "b2rMqa6_pigq"
      },
      "outputs": [],
      "source": [
        "from sklearn.compose import ColumnTransformer\n",
        "from sklearn.pipeline import Pipeline\n",
        "from sklearn.preprocessing import OneHotEncoder\n",
        "from sklearn.metrics import r2_score, mean_absolute_error"
      ]
    },
    {
      "cell_type": "code",
      "execution_count": 202,
      "metadata": {
        "id": "JVgmEGORsYOO"
      },
      "outputs": [],
      "source": [
        "from sklearn.linear_model import LinearRegression,Ridge,Lasso\n",
        "from sklearn.neighbors import KNeighborsRegressor\n",
        "from sklearn.tree import DecisionTreeRegressor\n",
        "from sklearn.ensemble import RandomForestRegressor,GradientBoostingRegressor\n",
        "from sklearn.svm import SVR\n",
        "from sklearn.ensemble import StackingRegressor"
      ]
    },
    {
      "cell_type": "code",
      "execution_count": 203,
      "metadata": {
        "id": "FeJj55vzqQ31"
      },
      "outputs": [],
      "source": [
        "step1 = ColumnTransformer(\n",
        "          transformers = [\n",
        "              ('col_tnf', OneHotEncoder(sparse =False, drop='first'), ['Company','TypeName','CPU Brand', 'GPU Brand', 'OS'])\n",
        "              ]\n",
        ")"
      ]
    },
    {
      "cell_type": "code",
      "execution_count": 204,
      "metadata": {
        "colab": {
          "base_uri": "https://localhost:8080/"
        },
        "id": "I8GHeZgFp9RN",
        "outputId": "7825f070-9892-4190-97c9-033902ae1bbe"
      },
      "outputs": [
        {
          "name": "stdout",
          "output_type": "stream",
          "text": [
            "Linear Regression\n",
            "R2 Score: 0.7406660931720511\n",
            "Mean Absolute Error: 0.2546439850105413\n",
            "\n",
            "\n",
            "K-Nearest Neighbour\n",
            "R2 Score: 0.6497465677047046\n",
            "Mean Absolute Error: 0.2709415526489369\n",
            "\n",
            "\n",
            "Decision Tree\n",
            "R2 Score: 0.7139363555035866\n",
            "Mean Absolute Error: 0.25579534941221027\n",
            "\n",
            "\n",
            "Support Vector Machine\n",
            "R2 Score: 0.7388380213231505\n",
            "Mean Absolute Error: 0.24239300407755854\n",
            "\n",
            "\n",
            "Random Forest Regressor\n",
            "R2 Score: 0.7409627710135351\n",
            "Mean Absolute Error: 0.24474145406901285\n",
            "\n",
            "\n",
            "Gradient Boosting Regressor\n",
            "R2 Score: 0.7643793441248502\n",
            "Mean Absolute Error: 0.23507027546259696\n",
            "\n",
            "\n"
          ]
        }
      ],
      "source": [
        "models = {'Linear Regression':Lasso(alpha=0.01),\n",
        "          'K-Nearest Neighbour':KNeighborsRegressor(n_neighbors=3),\n",
        "          'Decision Tree':DecisionTreeRegressor(max_depth=8),\n",
        "          'Support Vector Machine': SVR(kernel=\"rbf\",C=10000,epsilon=0.1),\n",
        "          'Random Forest Regressor': RandomForestRegressor(n_estimators=100, random_state=3, max_samples=0.5, max_features=0.75, max_depth=15),\n",
        "          'Gradient Boosting Regressor': GradientBoostingRegressor(n_estimators=100,max_features=0.5),\n",
        "          }\n",
        "\n",
        "for key, model in models.items():\n",
        "  pipe = Pipeline(\n",
        "      [('step1', step1),\n",
        "       ('step2',model)]\n",
        "        )\n",
        "  pipe.fit(X_train, y_train)\n",
        "  y_pred = pipe.predict(X_test)\n",
        "  print(f\"{key}\")\n",
        "  print(f'R2 Score: {r2_score(y_test, y_pred)}')\n",
        "  print(f'Mean Absolute Error: {mean_absolute_error(y_test, y_pred)}')\n",
        "  print('\\n')"
      ]
    },
    {
      "cell_type": "markdown",
      "metadata": {
        "id": "WeS4waVxytF1"
      },
      "source": [
        "From the provided results, the Gradient Boosting Regressor has the highest R2 score (0.7689) and the lowest MAE (0.2333), indicating that it performs the best among the given models. Therefore, the Gradient Boosting Regressor might be considered the best model in this case."
      ]
    },
    {
      "cell_type": "markdown",
      "metadata": {
        "id": "eAIxf9M24TI8"
      },
      "source": [
        "# Hyperparameter Tuning"
      ]
    },
    {
      "cell_type": "code",
      "execution_count": 205,
      "metadata": {
        "id": "QZGAe42t49mh"
      },
      "outputs": [],
      "source": [
        "from sklearn.model_selection import RandomizedSearchCV\n",
        "import pickle"
      ]
    },
    {
      "cell_type": "code",
      "execution_count": 206,
      "metadata": {
        "colab": {
          "base_uri": "https://localhost:8080/"
        },
        "id": "5y5NEd6kyt4S",
        "outputId": "46989acf-ab30-43c8-ee3f-269cd2509b98"
      },
      "outputs": [
        {
          "name": "stdout",
          "output_type": "stream",
          "text": [
            "Fitting 5 folds for each of 10 candidates, totalling 50 fits\n"
          ]
        },
        {
          "name": "stderr",
          "output_type": "stream",
          "text": [
            "/opt/homebrew/lib/python3.11/site-packages/sklearn/preprocessing/_encoders.py:975: FutureWarning: `sparse` was renamed to `sparse_output` in version 1.2 and will be removed in 1.4. `sparse_output` is ignored unless you leave `sparse` to its default value.\n",
            "  warnings.warn(\n",
            "/opt/homebrew/lib/python3.11/site-packages/sklearn/preprocessing/_encoders.py:975: FutureWarning: `sparse` was renamed to `sparse_output` in version 1.2 and will be removed in 1.4. `sparse_output` is ignored unless you leave `sparse` to its default value.\n",
            "  warnings.warn(\n",
            "/opt/homebrew/lib/python3.11/site-packages/sklearn/preprocessing/_encoders.py:975: FutureWarning: `sparse` was renamed to `sparse_output` in version 1.2 and will be removed in 1.4. `sparse_output` is ignored unless you leave `sparse` to its default value.\n",
            "  warnings.warn(\n",
            "/opt/homebrew/lib/python3.11/site-packages/sklearn/preprocessing/_encoders.py:975: FutureWarning: `sparse` was renamed to `sparse_output` in version 1.2 and will be removed in 1.4. `sparse_output` is ignored unless you leave `sparse` to its default value.\n",
            "  warnings.warn(\n",
            "/opt/homebrew/lib/python3.11/site-packages/sklearn/preprocessing/_encoders.py:975: FutureWarning: `sparse` was renamed to `sparse_output` in version 1.2 and will be removed in 1.4. `sparse_output` is ignored unless you leave `sparse` to its default value.\n",
            "  warnings.warn(\n",
            "/opt/homebrew/lib/python3.11/site-packages/sklearn/preprocessing/_encoders.py:975: FutureWarning: `sparse` was renamed to `sparse_output` in version 1.2 and will be removed in 1.4. `sparse_output` is ignored unless you leave `sparse` to its default value.\n",
            "  warnings.warn(\n",
            "/opt/homebrew/lib/python3.11/site-packages/sklearn/preprocessing/_encoders.py:975: FutureWarning: `sparse` was renamed to `sparse_output` in version 1.2 and will be removed in 1.4. `sparse_output` is ignored unless you leave `sparse` to its default value.\n",
            "  warnings.warn(\n",
            "/opt/homebrew/lib/python3.11/site-packages/sklearn/preprocessing/_encoders.py:975: FutureWarning: `sparse` was renamed to `sparse_output` in version 1.2 and will be removed in 1.4. `sparse_output` is ignored unless you leave `sparse` to its default value.\n",
            "  warnings.warn(\n",
            "/opt/homebrew/lib/python3.11/site-packages/sklearn/preprocessing/_encoders.py:975: FutureWarning: `sparse` was renamed to `sparse_output` in version 1.2 and will be removed in 1.4. `sparse_output` is ignored unless you leave `sparse` to its default value.\n",
            "  warnings.warn(\n",
            "/opt/homebrew/lib/python3.11/site-packages/sklearn/preprocessing/_encoders.py:975: FutureWarning: `sparse` was renamed to `sparse_output` in version 1.2 and will be removed in 1.4. `sparse_output` is ignored unless you leave `sparse` to its default value.\n",
            "  warnings.warn(\n",
            "/opt/homebrew/lib/python3.11/site-packages/sklearn/preprocessing/_encoders.py:975: FutureWarning: `sparse` was renamed to `sparse_output` in version 1.2 and will be removed in 1.4. `sparse_output` is ignored unless you leave `sparse` to its default value.\n",
            "  warnings.warn(\n",
            "/opt/homebrew/lib/python3.11/site-packages/sklearn/preprocessing/_encoders.py:975: FutureWarning: `sparse` was renamed to `sparse_output` in version 1.2 and will be removed in 1.4. `sparse_output` is ignored unless you leave `sparse` to its default value.\n",
            "  warnings.warn(\n"
          ]
        },
        {
          "name": "stdout",
          "output_type": "stream",
          "text": [
            "[CV] END regressor__learning_rate=0.2, regressor__max_depth=6, regressor__max_features=1.0, regressor__n_estimators=100, regressor__subsample=0.8; total time=   0.2s\n",
            "[CV] END regressor__learning_rate=0.2, regressor__max_depth=6, regressor__max_features=1.0, regressor__n_estimators=100, regressor__subsample=0.8; total time=   0.2s\n",
            "[CV] END regressor__learning_rate=0.2, regressor__max_depth=6, regressor__max_features=1.0, regressor__n_estimators=100, regressor__subsample=0.8; total time=   0.2s\n",
            "[CV] END regressor__learning_rate=0.2, regressor__max_depth=6, regressor__max_features=1.0, regressor__n_estimators=100, regressor__subsample=0.8; total time=   0.2s\n",
            "[CV] END regressor__learning_rate=0.2, regressor__max_depth=6, regressor__max_features=1.0, regressor__n_estimators=100, regressor__subsample=0.8; total time=   0.2s\n"
          ]
        },
        {
          "name": "stderr",
          "output_type": "stream",
          "text": [
            "/opt/homebrew/lib/python3.11/site-packages/sklearn/preprocessing/_encoders.py:975: FutureWarning: `sparse` was renamed to `sparse_output` in version 1.2 and will be removed in 1.4. `sparse_output` is ignored unless you leave `sparse` to its default value.\n",
            "  warnings.warn(\n",
            "/opt/homebrew/lib/python3.11/site-packages/sklearn/preprocessing/_encoders.py:975: FutureWarning: `sparse` was renamed to `sparse_output` in version 1.2 and will be removed in 1.4. `sparse_output` is ignored unless you leave `sparse` to its default value.\n",
            "  warnings.warn(\n",
            "/opt/homebrew/lib/python3.11/site-packages/sklearn/preprocessing/_encoders.py:975: FutureWarning: `sparse` was renamed to `sparse_output` in version 1.2 and will be removed in 1.4. `sparse_output` is ignored unless you leave `sparse` to its default value.\n",
            "  warnings.warn(\n",
            "/opt/homebrew/lib/python3.11/site-packages/sklearn/preprocessing/_encoders.py:975: FutureWarning: `sparse` was renamed to `sparse_output` in version 1.2 and will be removed in 1.4. `sparse_output` is ignored unless you leave `sparse` to its default value.\n",
            "  warnings.warn(\n",
            "/opt/homebrew/lib/python3.11/site-packages/sklearn/preprocessing/_encoders.py:975: FutureWarning: `sparse` was renamed to `sparse_output` in version 1.2 and will be removed in 1.4. `sparse_output` is ignored unless you leave `sparse` to its default value.\n",
            "  warnings.warn(\n",
            "/opt/homebrew/lib/python3.11/site-packages/sklearn/preprocessing/_encoders.py:975: FutureWarning: `sparse` was renamed to `sparse_output` in version 1.2 and will be removed in 1.4. `sparse_output` is ignored unless you leave `sparse` to its default value.\n",
            "  warnings.warn(\n",
            "/opt/homebrew/lib/python3.11/site-packages/sklearn/preprocessing/_encoders.py:975: FutureWarning: `sparse` was renamed to `sparse_output` in version 1.2 and will be removed in 1.4. `sparse_output` is ignored unless you leave `sparse` to its default value.\n",
            "  warnings.warn(\n",
            "/opt/homebrew/lib/python3.11/site-packages/sklearn/preprocessing/_encoders.py:975: FutureWarning: `sparse` was renamed to `sparse_output` in version 1.2 and will be removed in 1.4. `sparse_output` is ignored unless you leave `sparse` to its default value.\n",
            "  warnings.warn(\n"
          ]
        },
        {
          "name": "stdout",
          "output_type": "stream",
          "text": [
            "[CV] END regressor__learning_rate=0.01, regressor__max_depth=5, regressor__max_features=1.0, regressor__n_estimators=200, regressor__subsample=0.6; total time=   0.3s\n",
            "[CV] END regressor__learning_rate=0.01, regressor__max_depth=5, regressor__max_features=1.0, regressor__n_estimators=200, regressor__subsample=0.6; total time=   0.3s\n",
            "[CV] END regressor__learning_rate=0.05, regressor__max_depth=5, regressor__max_features=1.0, regressor__n_estimators=100, regressor__subsample=0.6; total time=   0.2s\n",
            "[CV] END regressor__learning_rate=0.01, regressor__max_depth=5, regressor__max_features=1.0, regressor__n_estimators=200, regressor__subsample=0.6; total time=   0.3s\n",
            "[CV] END regressor__learning_rate=0.05, regressor__max_depth=5, regressor__max_features=1.0, regressor__n_estimators=100, regressor__subsample=0.6; total time=   0.2s\n",
            "[CV] END regressor__learning_rate=0.01, regressor__max_depth=5, regressor__max_features=1.0, regressor__n_estimators=200, regressor__subsample=0.6; total time=   0.3s\n",
            "[CV] END regressor__learning_rate=0.05, regressor__max_depth=5, regressor__max_features=1.0, regressor__n_estimators=100, regressor__subsample=0.6; total time=   0.2s\n",
            "[CV] END regressor__learning_rate=0.01, regressor__max_depth=5, regressor__max_features=1.0, regressor__n_estimators=200, regressor__subsample=0.6; total time=   0.3s\n",
            "[CV] END regressor__learning_rate=0.05, regressor__max_depth=5, regressor__max_features=1.0, regressor__n_estimators=100, regressor__subsample=0.6; total time=   0.1s\n",
            "[CV] END regressor__learning_rate=0.05, regressor__max_depth=5, regressor__max_features=1.0, regressor__n_estimators=100, regressor__subsample=0.6; total time=   0.2s\n",
            "[CV] END regressor__learning_rate=0.01, regressor__max_depth=4, regressor__max_features=0.6, regressor__n_estimators=200, regressor__subsample=0.6; total time=   0.2s\n",
            "[CV] END regressor__learning_rate=0.01, regressor__max_depth=4, regressor__max_features=0.6, regressor__n_estimators=200, regressor__subsample=0.6; total time=   0.2s\n",
            "[CV] END regressor__learning_rate=0.01, regressor__max_depth=4, regressor__max_features=0.6, regressor__n_estimators=200, regressor__subsample=0.6; total time=   0.2s\n",
            "[CV] END regressor__learning_rate=0.01, regressor__max_depth=4, regressor__max_features=0.6, regressor__n_estimators=200, regressor__subsample=0.6; total time=   0.2s\n",
            "[CV] END regressor__learning_rate=0.01, regressor__max_depth=4, regressor__max_features=0.6, regressor__n_estimators=200, regressor__subsample=0.6; total time=   0.2s\n"
          ]
        },
        {
          "name": "stderr",
          "output_type": "stream",
          "text": [
            "/opt/homebrew/lib/python3.11/site-packages/sklearn/preprocessing/_encoders.py:975: FutureWarning: `sparse` was renamed to `sparse_output` in version 1.2 and will be removed in 1.4. `sparse_output` is ignored unless you leave `sparse` to its default value.\n",
            "  warnings.warn(\n",
            "/opt/homebrew/lib/python3.11/site-packages/sklearn/preprocessing/_encoders.py:975: FutureWarning: `sparse` was renamed to `sparse_output` in version 1.2 and will be removed in 1.4. `sparse_output` is ignored unless you leave `sparse` to its default value.\n",
            "  warnings.warn(\n",
            "/opt/homebrew/lib/python3.11/site-packages/sklearn/preprocessing/_encoders.py:975: FutureWarning: `sparse` was renamed to `sparse_output` in version 1.2 and will be removed in 1.4. `sparse_output` is ignored unless you leave `sparse` to its default value.\n",
            "  warnings.warn(\n",
            "/opt/homebrew/lib/python3.11/site-packages/sklearn/preprocessing/_encoders.py:975: FutureWarning: `sparse` was renamed to `sparse_output` in version 1.2 and will be removed in 1.4. `sparse_output` is ignored unless you leave `sparse` to its default value.\n",
            "  warnings.warn(\n",
            "/opt/homebrew/lib/python3.11/site-packages/sklearn/preprocessing/_encoders.py:975: FutureWarning: `sparse` was renamed to `sparse_output` in version 1.2 and will be removed in 1.4. `sparse_output` is ignored unless you leave `sparse` to its default value.\n",
            "  warnings.warn(\n",
            "/opt/homebrew/lib/python3.11/site-packages/sklearn/preprocessing/_encoders.py:975: FutureWarning: `sparse` was renamed to `sparse_output` in version 1.2 and will be removed in 1.4. `sparse_output` is ignored unless you leave `sparse` to its default value.\n",
            "  warnings.warn(\n",
            "/opt/homebrew/lib/python3.11/site-packages/sklearn/preprocessing/_encoders.py:975: FutureWarning: `sparse` was renamed to `sparse_output` in version 1.2 and will be removed in 1.4. `sparse_output` is ignored unless you leave `sparse` to its default value.\n",
            "  warnings.warn(\n",
            "/opt/homebrew/lib/python3.11/site-packages/sklearn/preprocessing/_encoders.py:975: FutureWarning: `sparse` was renamed to `sparse_output` in version 1.2 and will be removed in 1.4. `sparse_output` is ignored unless you leave `sparse` to its default value.\n",
            "  warnings.warn(\n"
          ]
        },
        {
          "name": "stdout",
          "output_type": "stream",
          "text": [
            "[CV] END regressor__learning_rate=0.2, regressor__max_depth=5, regressor__max_features=0.8, regressor__n_estimators=200, regressor__subsample=1.0; total time=   0.3s\n",
            "[CV] END regressor__learning_rate=0.2, regressor__max_depth=5, regressor__max_features=0.8, regressor__n_estimators=200, regressor__subsample=1.0; total time=   0.3s\n",
            "[CV] END regressor__learning_rate=0.2, regressor__max_depth=5, regressor__max_features=0.8, regressor__n_estimators=200, regressor__subsample=1.0; total time=   0.3s\n",
            "[CV] END regressor__learning_rate=0.2, regressor__max_depth=5, regressor__max_features=0.8, regressor__n_estimators=200, regressor__subsample=1.0; total time=   0.4s\n",
            "[CV] END regressor__learning_rate=0.1, regressor__max_depth=5, regressor__max_features=0.6, regressor__n_estimators=200, regressor__subsample=1.0; total time=   0.3s\n",
            "[CV] END regressor__learning_rate=0.1, regressor__max_depth=5, regressor__max_features=0.6, regressor__n_estimators=200, regressor__subsample=1.0; total time=   0.3s\n",
            "[CV] END regressor__learning_rate=0.1, regressor__max_depth=5, regressor__max_features=0.6, regressor__n_estimators=200, regressor__subsample=1.0; total time=   0.3s\n",
            "[CV] END regressor__learning_rate=0.2, regressor__max_depth=5, regressor__max_features=0.8, regressor__n_estimators=200, regressor__subsample=1.0; total time=   0.3s\n"
          ]
        },
        {
          "name": "stderr",
          "output_type": "stream",
          "text": [
            "/opt/homebrew/lib/python3.11/site-packages/sklearn/preprocessing/_encoders.py:975: FutureWarning: `sparse` was renamed to `sparse_output` in version 1.2 and will be removed in 1.4. `sparse_output` is ignored unless you leave `sparse` to its default value.\n",
            "  warnings.warn(\n",
            "/opt/homebrew/lib/python3.11/site-packages/sklearn/preprocessing/_encoders.py:975: FutureWarning: `sparse` was renamed to `sparse_output` in version 1.2 and will be removed in 1.4. `sparse_output` is ignored unless you leave `sparse` to its default value.\n",
            "  warnings.warn(\n",
            "/opt/homebrew/lib/python3.11/site-packages/sklearn/preprocessing/_encoders.py:975: FutureWarning: `sparse` was renamed to `sparse_output` in version 1.2 and will be removed in 1.4. `sparse_output` is ignored unless you leave `sparse` to its default value.\n",
            "  warnings.warn(\n",
            "/opt/homebrew/lib/python3.11/site-packages/sklearn/preprocessing/_encoders.py:975: FutureWarning: `sparse` was renamed to `sparse_output` in version 1.2 and will be removed in 1.4. `sparse_output` is ignored unless you leave `sparse` to its default value.\n",
            "  warnings.warn(\n",
            "/opt/homebrew/lib/python3.11/site-packages/sklearn/preprocessing/_encoders.py:975: FutureWarning: `sparse` was renamed to `sparse_output` in version 1.2 and will be removed in 1.4. `sparse_output` is ignored unless you leave `sparse` to its default value.\n",
            "  warnings.warn(\n",
            "/opt/homebrew/lib/python3.11/site-packages/sklearn/preprocessing/_encoders.py:975: FutureWarning: `sparse` was renamed to `sparse_output` in version 1.2 and will be removed in 1.4. `sparse_output` is ignored unless you leave `sparse` to its default value.\n",
            "  warnings.warn(\n",
            "/opt/homebrew/lib/python3.11/site-packages/sklearn/preprocessing/_encoders.py:975: FutureWarning: `sparse` was renamed to `sparse_output` in version 1.2 and will be removed in 1.4. `sparse_output` is ignored unless you leave `sparse` to its default value.\n",
            "  warnings.warn(\n",
            "/opt/homebrew/lib/python3.11/site-packages/sklearn/preprocessing/_encoders.py:975: FutureWarning: `sparse` was renamed to `sparse_output` in version 1.2 and will be removed in 1.4. `sparse_output` is ignored unless you leave `sparse` to its default value.\n",
            "  warnings.warn(\n"
          ]
        },
        {
          "name": "stdout",
          "output_type": "stream",
          "text": [
            "[CV] END regressor__learning_rate=0.1, regressor__max_depth=5, regressor__max_features=0.6, regressor__n_estimators=200, regressor__subsample=1.0; total time=   0.2s\n",
            "[CV] END regressor__learning_rate=0.2, regressor__max_depth=6, regressor__max_features=0.8, regressor__n_estimators=100, regressor__subsample=0.6; total time=   0.1s\n",
            "[CV] END regressor__learning_rate=0.2, regressor__max_depth=6, regressor__max_features=0.8, regressor__n_estimators=100, regressor__subsample=0.6; total time=   0.1s\n",
            "[CV] END regressor__learning_rate=0.2, regressor__max_depth=6, regressor__max_features=0.8, regressor__n_estimators=100, regressor__subsample=0.6; total time=   0.1s\n",
            "[CV] END regressor__learning_rate=0.2, regressor__max_depth=6, regressor__max_features=0.8, regressor__n_estimators=100, regressor__subsample=0.6; total time=   0.1s\n",
            "[CV] END regressor__learning_rate=0.2, regressor__max_depth=6, regressor__max_features=0.8, regressor__n_estimators=100, regressor__subsample=0.6; total time=   0.1s\n",
            "[CV] END regressor__learning_rate=0.1, regressor__max_depth=5, regressor__max_features=0.6, regressor__n_estimators=200, regressor__subsample=1.0; total time=   0.3s\n",
            "[CV] END regressor__learning_rate=0.05, regressor__max_depth=4, regressor__max_features=1.0, regressor__n_estimators=100, regressor__subsample=0.8; total time=   0.2s\n",
            "[CV] END regressor__learning_rate=0.05, regressor__max_depth=4, regressor__max_features=1.0, regressor__n_estimators=100, regressor__subsample=0.8; total time=   0.2s\n",
            "[CV] END regressor__learning_rate=0.05, regressor__max_depth=4, regressor__max_features=1.0, regressor__n_estimators=100, regressor__subsample=0.8; total time=   0.2s\n",
            "[CV] END regressor__learning_rate=0.05, regressor__max_depth=4, regressor__max_features=1.0, regressor__n_estimators=100, regressor__subsample=0.8; total time=   0.2s\n",
            "[CV] END regressor__learning_rate=0.05, regressor__max_depth=4, regressor__max_features=1.0, regressor__n_estimators=100, regressor__subsample=0.8; total time=   0.1s\n"
          ]
        },
        {
          "name": "stderr",
          "output_type": "stream",
          "text": [
            "/opt/homebrew/lib/python3.11/site-packages/sklearn/preprocessing/_encoders.py:975: FutureWarning: `sparse` was renamed to `sparse_output` in version 1.2 and will be removed in 1.4. `sparse_output` is ignored unless you leave `sparse` to its default value.\n",
            "  warnings.warn(\n",
            "/opt/homebrew/lib/python3.11/site-packages/sklearn/preprocessing/_encoders.py:975: FutureWarning: `sparse` was renamed to `sparse_output` in version 1.2 and will be removed in 1.4. `sparse_output` is ignored unless you leave `sparse` to its default value.\n",
            "  warnings.warn(\n",
            "/opt/homebrew/lib/python3.11/site-packages/sklearn/preprocessing/_encoders.py:975: FutureWarning: `sparse` was renamed to `sparse_output` in version 1.2 and will be removed in 1.4. `sparse_output` is ignored unless you leave `sparse` to its default value.\n",
            "  warnings.warn(\n",
            "/opt/homebrew/lib/python3.11/site-packages/sklearn/preprocessing/_encoders.py:975: FutureWarning: `sparse` was renamed to `sparse_output` in version 1.2 and will be removed in 1.4. `sparse_output` is ignored unless you leave `sparse` to its default value.\n",
            "  warnings.warn(\n",
            "/opt/homebrew/lib/python3.11/site-packages/sklearn/preprocessing/_encoders.py:975: FutureWarning: `sparse` was renamed to `sparse_output` in version 1.2 and will be removed in 1.4. `sparse_output` is ignored unless you leave `sparse` to its default value.\n",
            "  warnings.warn(\n",
            "/opt/homebrew/lib/python3.11/site-packages/sklearn/preprocessing/_encoders.py:975: FutureWarning: `sparse` was renamed to `sparse_output` in version 1.2 and will be removed in 1.4. `sparse_output` is ignored unless you leave `sparse` to its default value.\n",
            "  warnings.warn(\n",
            "/opt/homebrew/lib/python3.11/site-packages/sklearn/preprocessing/_encoders.py:975: FutureWarning: `sparse` was renamed to `sparse_output` in version 1.2 and will be removed in 1.4. `sparse_output` is ignored unless you leave `sparse` to its default value.\n",
            "  warnings.warn(\n",
            "/opt/homebrew/lib/python3.11/site-packages/sklearn/preprocessing/_encoders.py:975: FutureWarning: `sparse` was renamed to `sparse_output` in version 1.2 and will be removed in 1.4. `sparse_output` is ignored unless you leave `sparse` to its default value.\n",
            "  warnings.warn(\n",
            "/opt/homebrew/lib/python3.11/site-packages/sklearn/preprocessing/_encoders.py:975: FutureWarning: `sparse` was renamed to `sparse_output` in version 1.2 and will be removed in 1.4. `sparse_output` is ignored unless you leave `sparse` to its default value.\n",
            "  warnings.warn(\n",
            "/opt/homebrew/lib/python3.11/site-packages/sklearn/preprocessing/_encoders.py:975: FutureWarning: `sparse` was renamed to `sparse_output` in version 1.2 and will be removed in 1.4. `sparse_output` is ignored unless you leave `sparse` to its default value.\n",
            "  warnings.warn(\n",
            "/opt/homebrew/lib/python3.11/site-packages/sklearn/preprocessing/_encoders.py:975: FutureWarning: `sparse` was renamed to `sparse_output` in version 1.2 and will be removed in 1.4. `sparse_output` is ignored unless you leave `sparse` to its default value.\n",
            "  warnings.warn(\n",
            "/opt/homebrew/lib/python3.11/site-packages/sklearn/preprocessing/_encoders.py:975: FutureWarning: `sparse` was renamed to `sparse_output` in version 1.2 and will be removed in 1.4. `sparse_output` is ignored unless you leave `sparse` to its default value.\n",
            "  warnings.warn(\n"
          ]
        },
        {
          "name": "stdout",
          "output_type": "stream",
          "text": [
            "[CV] END regressor__learning_rate=0.05, regressor__max_depth=4, regressor__max_features=0.8, regressor__n_estimators=200, regressor__subsample=0.8; total time=   0.2s\n",
            "[CV] END regressor__learning_rate=0.05, regressor__max_depth=6, regressor__max_features=0.6, regressor__n_estimators=300, regressor__subsample=0.6; total time=   0.3s\n",
            "[CV] END regressor__learning_rate=0.05, regressor__max_depth=4, regressor__max_features=0.8, regressor__n_estimators=200, regressor__subsample=0.8; total time=   0.2s\n",
            "[CV] END regressor__learning_rate=0.05, regressor__max_depth=4, regressor__max_features=0.8, regressor__n_estimators=200, regressor__subsample=0.8; total time=   0.3s\n",
            "[CV] END regressor__learning_rate=0.05, regressor__max_depth=6, regressor__max_features=0.6, regressor__n_estimators=300, regressor__subsample=0.6; total time=   0.4s\n",
            "[CV] END regressor__learning_rate=0.05, regressor__max_depth=6, regressor__max_features=0.6, regressor__n_estimators=300, regressor__subsample=0.6; total time=   0.4s\n",
            "[CV] END regressor__learning_rate=0.05, regressor__max_depth=6, regressor__max_features=0.6, regressor__n_estimators=300, regressor__subsample=0.6; total time=   0.4s\n",
            "[CV] END regressor__learning_rate=0.05, regressor__max_depth=6, regressor__max_features=0.6, regressor__n_estimators=300, regressor__subsample=0.6; total time=   0.4s\n",
            "[CV] END regressor__learning_rate=0.05, regressor__max_depth=4, regressor__max_features=0.8, regressor__n_estimators=200, regressor__subsample=0.8; total time=   0.2s\n",
            "[CV] END regressor__learning_rate=0.05, regressor__max_depth=4, regressor__max_features=0.8, regressor__n_estimators=200, regressor__subsample=0.8; total time=   0.2s\n"
          ]
        },
        {
          "name": "stderr",
          "output_type": "stream",
          "text": [
            "/opt/homebrew/lib/python3.11/site-packages/sklearn/preprocessing/_encoders.py:975: FutureWarning: `sparse` was renamed to `sparse_output` in version 1.2 and will be removed in 1.4. `sparse_output` is ignored unless you leave `sparse` to its default value.\n",
            "  warnings.warn(\n",
            "/opt/homebrew/lib/python3.11/site-packages/sklearn/preprocessing/_encoders.py:975: FutureWarning: `sparse` was renamed to `sparse_output` in version 1.2 and will be removed in 1.4. `sparse_output` is ignored unless you leave `sparse` to its default value.\n",
            "  warnings.warn(\n"
          ]
        },
        {
          "name": "stdout",
          "output_type": "stream",
          "text": [
            "Best Model Parameters: {'regressor__subsample': 0.8, 'regressor__n_estimators': 200, 'regressor__max_features': 0.8, 'regressor__max_depth': 4, 'regressor__learning_rate': 0.05}\n",
            "R2 Score: 0.7616297380030524\n",
            "Mean Absolute Error: 0.23515913449945122\n"
          ]
        }
      ],
      "source": [
        "model = GradientBoostingRegressor()\n",
        "\n",
        "param_grid = {\n",
        "    'regressor__n_estimators': [100, 200, 300],\n",
        "    'regressor__learning_rate': [0.01, 0.05, 0.1, 0.2],\n",
        "    'regressor__max_depth': [3, 4, 5, 6],\n",
        "    'regressor__subsample': [0.6, 0.8, 1.0],\n",
        "    'regressor__max_features': [0.6, 0.8, 1.0]\n",
        "}\n",
        "\n",
        "pipe = Pipeline([\n",
        "    ('preprocessor', step1),\n",
        "    ('regressor', model)\n",
        "])\n",
        "\n",
        "# Perform Grid Search\n",
        "grid_search = RandomizedSearchCV(pipe, param_grid, cv=5, scoring='r2', n_jobs=-1, verbose=2, random_state=42)\n",
        "grid_search.fit(X_train, y_train)\n",
        "\n",
        "best_model = grid_search.best_estimator_\n",
        "\n",
        "y_pred = best_model.predict(X_test)\n",
        "\n",
        "# Evaluate the model\n",
        "r2 = r2_score(y_test, y_pred)\n",
        "mae = mean_absolute_error(y_test, y_pred)\n",
        "\n",
        "print(f'Best Model Parameters: {grid_search.best_params_}')\n",
        "print(f'R2 Score: {r2}')\n",
        "print(f'Mean Absolute Error: {mae}')"
      ]
    },
    {
      "cell_type": "markdown",
      "metadata": {},
      "source": [
        "Best model parameters are derived using RandomSearchCV"
      ]
    },
    {
      "cell_type": "markdown",
      "metadata": {},
      "source": [
        "# Export the best model"
      ]
    },
    {
      "cell_type": "code",
      "execution_count": 207,
      "metadata": {
        "id": "r5mVBj_r692Z"
      },
      "outputs": [],
      "source": [
        "# Saving the best model\n",
        "with open('df.pkl', 'wb') as f:\n",
        "    pickle.dump(df, f)\n",
        "\n",
        "# Export the best gradient boosting model to pickle\n",
        "with open('best_gradient_boosting_model.pkl', 'wb') as f:\n",
        "    pickle.dump(best_model, f)"
      ]
    },
    {
      "cell_type": "markdown",
      "metadata": {},
      "source": [
        "Best model with best parameters are exported as pickle file."
      ]
    },
    {
      "cell_type": "markdown",
      "metadata": {},
      "source": [
        "# Predicting the price"
      ]
    },
    {
      "cell_type": "code",
      "execution_count": 208,
      "metadata": {},
      "outputs": [],
      "source": [
        "\n",
        "def predict_price(Company, TypeName, Ram, Weight, Touchscreen, Ips, PPI, CPU_Brand, HDD, SSD, GPU_Brand, OS):\n",
        "    # Create a DataFrame from input variables\n",
        "    data = pd.DataFrame({\n",
        "        'Company': [Company],\n",
        "        'TypeName': [TypeName],\n",
        "        'Ram': [Ram],\n",
        "        'Weight': [Weight],\n",
        "        'Touchscreen': [Touchscreen],\n",
        "        'Ips': [Ips],\n",
        "        'PPI': [PPI],\n",
        "        'CPU Brand': [CPU_Brand],\n",
        "        'HDD': [HDD],\n",
        "        'SSD': [SSD],\n",
        "        'GPU Brand': [GPU_Brand],\n",
        "        'OS': [OS]\n",
        "    })\n",
        "\n",
        "    # Make prediction using the model\n",
        "    return float(np.exp(best_model.predict(data)))\n"
      ]
    },
    {
      "cell_type": "code",
      "execution_count": 209,
      "metadata": {},
      "outputs": [
        {
          "data": {
            "text/plain": [
              "64882.55470264237"
            ]
          },
          "execution_count": 209,
          "metadata": {},
          "output_type": "execute_result"
        }
      ],
      "source": [
        "predict_price('Lenovo',\t'Ultrabook', 128, 1.34, 128, 0, 1,\t'Intel Core i3',0,\t0,\t'Intel',\t'Mac')"
      ]
    },
    {
      "cell_type": "code",
      "execution_count": 210,
      "metadata": {},
      "outputs": [
        {
          "data": {
            "text/plain": [
              "array(['Intel Core i5', 'Intel Core i7', 'AMD Processor', 'Intel Core i3',\n",
              "       'Other Intel Processor'], dtype=object)"
            ]
          },
          "execution_count": 210,
          "metadata": {},
          "output_type": "execute_result"
        }
      ],
      "source": [
        "df['CPU Brand'].unique()"
      ]
    },
    {
      "cell_type": "markdown",
      "metadata": {},
      "source": [
        "Simple demo of Laptop Price Prediction."
      ]
    }
  ],
  "metadata": {
    "colab": {
      "collapsed_sections": [
        "emdhgfUMPiSt",
        "RwSf0MBVQYVg",
        "nTKFAhtTi__-",
        "Hu06DpZkjETJ",
        "DbWy-TDajKgE",
        "7mYwTNWkJ5CN",
        "LfPZoaa5W0HL",
        "oacSP869W4W-",
        "Dc8BHLkhW8h6",
        "nkz-KZVYYIU3",
        "mn7LhmrWY_XX",
        "dD0ifnryalmO",
        "pqgxOieEiKUE",
        "YPV7KNg2uUU6",
        "ZMm7A-Dqufh3",
        "cq1yaZyJ9mRy",
        "2VxtUhALDiLN",
        "z2LAePQgErsL",
        "CCZ1N85nFb_4",
        "feQ_p4h8FnoV",
        "TeVxlRHq-EkM"
      ],
      "provenance": []
    },
    "kernelspec": {
      "display_name": "Python 3",
      "name": "python3"
    },
    "language_info": {
      "codemirror_mode": {
        "name": "ipython",
        "version": 3
      },
      "file_extension": ".py",
      "mimetype": "text/x-python",
      "name": "python",
      "nbconvert_exporter": "python",
      "pygments_lexer": "ipython3",
      "version": "3.11.5"
    }
  },
  "nbformat": 4,
  "nbformat_minor": 0
}
